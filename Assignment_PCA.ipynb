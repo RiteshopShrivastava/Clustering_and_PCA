{
  "nbformat": 4,
  "nbformat_minor": 0,
  "metadata": {
    "colab": {
      "name": "Assignment_PCA.ipynb",
      "provenance": [],
      "collapsed_sections": [],
      "authorship_tag": "ABX9TyNZaXKjlJVXgPDXAQ3EWXJH",
      "include_colab_link": true
    },
    "kernelspec": {
      "name": "python3",
      "display_name": "Python 3"
    },
    "language_info": {
      "name": "python"
    }
  },
  "cells": [
    {
      "cell_type": "markdown",
      "metadata": {
        "id": "view-in-github",
        "colab_type": "text"
      },
      "source": [
        "<a href=\"https://colab.research.google.com/github/RiteshopShrivastava/Clustering_and_PCA/blob/main/Assignment_PCA.ipynb\" target=\"_parent\"><img src=\"https://colab.research.google.com/assets/colab-badge.svg\" alt=\"Open In Colab\"/></a>"
      ]
    },
    {
      "cell_type": "code",
      "metadata": {
        "id": "Tw1-WADcUx7_"
      },
      "source": [
        "import pandas as pd\n",
        "import numpy as np\n",
        "import matplotlib.pyplot as plt\n",
        "from sklearn.decomposition import PCA\n",
        "from sklearn.preprocessing import Normalizer, scale"
      ],
      "execution_count": 174,
      "outputs": []
    },
    {
      "cell_type": "code",
      "metadata": {
        "id": "Tijjl5l6VcVL"
      },
      "source": [
        "wine_data = pd.read_csv('wine.csv')"
      ],
      "execution_count": 32,
      "outputs": []
    },
    {
      "cell_type": "code",
      "metadata": {
        "colab": {
          "base_uri": "https://localhost:8080/",
          "height": 419
        },
        "id": "rcvpyyP-Vced",
        "outputId": "7e134bab-d54d-4c5b-d3ba-719674a38e26"
      },
      "source": [
        "wine_data"
      ],
      "execution_count": 33,
      "outputs": [
        {
          "output_type": "execute_result",
          "data": {
            "text/html": [
              "<div>\n",
              "<style scoped>\n",
              "    .dataframe tbody tr th:only-of-type {\n",
              "        vertical-align: middle;\n",
              "    }\n",
              "\n",
              "    .dataframe tbody tr th {\n",
              "        vertical-align: top;\n",
              "    }\n",
              "\n",
              "    .dataframe thead th {\n",
              "        text-align: right;\n",
              "    }\n",
              "</style>\n",
              "<table border=\"1\" class=\"dataframe\">\n",
              "  <thead>\n",
              "    <tr style=\"text-align: right;\">\n",
              "      <th></th>\n",
              "      <th>Type</th>\n",
              "      <th>Alcohol</th>\n",
              "      <th>Malic</th>\n",
              "      <th>Ash</th>\n",
              "      <th>Alcalinity</th>\n",
              "      <th>Magnesium</th>\n",
              "      <th>Phenols</th>\n",
              "      <th>Flavanoids</th>\n",
              "      <th>Nonflavanoids</th>\n",
              "      <th>Proanthocyanins</th>\n",
              "      <th>Color</th>\n",
              "      <th>Hue</th>\n",
              "      <th>Dilution</th>\n",
              "      <th>Proline</th>\n",
              "    </tr>\n",
              "  </thead>\n",
              "  <tbody>\n",
              "    <tr>\n",
              "      <th>0</th>\n",
              "      <td>1</td>\n",
              "      <td>14.23</td>\n",
              "      <td>1.71</td>\n",
              "      <td>2.43</td>\n",
              "      <td>15.6</td>\n",
              "      <td>127</td>\n",
              "      <td>2.80</td>\n",
              "      <td>3.06</td>\n",
              "      <td>0.28</td>\n",
              "      <td>2.29</td>\n",
              "      <td>5.64</td>\n",
              "      <td>1.04</td>\n",
              "      <td>3.92</td>\n",
              "      <td>1065</td>\n",
              "    </tr>\n",
              "    <tr>\n",
              "      <th>1</th>\n",
              "      <td>1</td>\n",
              "      <td>13.20</td>\n",
              "      <td>1.78</td>\n",
              "      <td>2.14</td>\n",
              "      <td>11.2</td>\n",
              "      <td>100</td>\n",
              "      <td>2.65</td>\n",
              "      <td>2.76</td>\n",
              "      <td>0.26</td>\n",
              "      <td>1.28</td>\n",
              "      <td>4.38</td>\n",
              "      <td>1.05</td>\n",
              "      <td>3.40</td>\n",
              "      <td>1050</td>\n",
              "    </tr>\n",
              "    <tr>\n",
              "      <th>2</th>\n",
              "      <td>1</td>\n",
              "      <td>13.16</td>\n",
              "      <td>2.36</td>\n",
              "      <td>2.67</td>\n",
              "      <td>18.6</td>\n",
              "      <td>101</td>\n",
              "      <td>2.80</td>\n",
              "      <td>3.24</td>\n",
              "      <td>0.30</td>\n",
              "      <td>2.81</td>\n",
              "      <td>5.68</td>\n",
              "      <td>1.03</td>\n",
              "      <td>3.17</td>\n",
              "      <td>1185</td>\n",
              "    </tr>\n",
              "    <tr>\n",
              "      <th>3</th>\n",
              "      <td>1</td>\n",
              "      <td>14.37</td>\n",
              "      <td>1.95</td>\n",
              "      <td>2.50</td>\n",
              "      <td>16.8</td>\n",
              "      <td>113</td>\n",
              "      <td>3.85</td>\n",
              "      <td>3.49</td>\n",
              "      <td>0.24</td>\n",
              "      <td>2.18</td>\n",
              "      <td>7.80</td>\n",
              "      <td>0.86</td>\n",
              "      <td>3.45</td>\n",
              "      <td>1480</td>\n",
              "    </tr>\n",
              "    <tr>\n",
              "      <th>4</th>\n",
              "      <td>1</td>\n",
              "      <td>13.24</td>\n",
              "      <td>2.59</td>\n",
              "      <td>2.87</td>\n",
              "      <td>21.0</td>\n",
              "      <td>118</td>\n",
              "      <td>2.80</td>\n",
              "      <td>2.69</td>\n",
              "      <td>0.39</td>\n",
              "      <td>1.82</td>\n",
              "      <td>4.32</td>\n",
              "      <td>1.04</td>\n",
              "      <td>2.93</td>\n",
              "      <td>735</td>\n",
              "    </tr>\n",
              "    <tr>\n",
              "      <th>...</th>\n",
              "      <td>...</td>\n",
              "      <td>...</td>\n",
              "      <td>...</td>\n",
              "      <td>...</td>\n",
              "      <td>...</td>\n",
              "      <td>...</td>\n",
              "      <td>...</td>\n",
              "      <td>...</td>\n",
              "      <td>...</td>\n",
              "      <td>...</td>\n",
              "      <td>...</td>\n",
              "      <td>...</td>\n",
              "      <td>...</td>\n",
              "      <td>...</td>\n",
              "    </tr>\n",
              "    <tr>\n",
              "      <th>173</th>\n",
              "      <td>3</td>\n",
              "      <td>13.71</td>\n",
              "      <td>5.65</td>\n",
              "      <td>2.45</td>\n",
              "      <td>20.5</td>\n",
              "      <td>95</td>\n",
              "      <td>1.68</td>\n",
              "      <td>0.61</td>\n",
              "      <td>0.52</td>\n",
              "      <td>1.06</td>\n",
              "      <td>7.70</td>\n",
              "      <td>0.64</td>\n",
              "      <td>1.74</td>\n",
              "      <td>740</td>\n",
              "    </tr>\n",
              "    <tr>\n",
              "      <th>174</th>\n",
              "      <td>3</td>\n",
              "      <td>13.40</td>\n",
              "      <td>3.91</td>\n",
              "      <td>2.48</td>\n",
              "      <td>23.0</td>\n",
              "      <td>102</td>\n",
              "      <td>1.80</td>\n",
              "      <td>0.75</td>\n",
              "      <td>0.43</td>\n",
              "      <td>1.41</td>\n",
              "      <td>7.30</td>\n",
              "      <td>0.70</td>\n",
              "      <td>1.56</td>\n",
              "      <td>750</td>\n",
              "    </tr>\n",
              "    <tr>\n",
              "      <th>175</th>\n",
              "      <td>3</td>\n",
              "      <td>13.27</td>\n",
              "      <td>4.28</td>\n",
              "      <td>2.26</td>\n",
              "      <td>20.0</td>\n",
              "      <td>120</td>\n",
              "      <td>1.59</td>\n",
              "      <td>0.69</td>\n",
              "      <td>0.43</td>\n",
              "      <td>1.35</td>\n",
              "      <td>10.20</td>\n",
              "      <td>0.59</td>\n",
              "      <td>1.56</td>\n",
              "      <td>835</td>\n",
              "    </tr>\n",
              "    <tr>\n",
              "      <th>176</th>\n",
              "      <td>3</td>\n",
              "      <td>13.17</td>\n",
              "      <td>2.59</td>\n",
              "      <td>2.37</td>\n",
              "      <td>20.0</td>\n",
              "      <td>120</td>\n",
              "      <td>1.65</td>\n",
              "      <td>0.68</td>\n",
              "      <td>0.53</td>\n",
              "      <td>1.46</td>\n",
              "      <td>9.30</td>\n",
              "      <td>0.60</td>\n",
              "      <td>1.62</td>\n",
              "      <td>840</td>\n",
              "    </tr>\n",
              "    <tr>\n",
              "      <th>177</th>\n",
              "      <td>3</td>\n",
              "      <td>14.13</td>\n",
              "      <td>4.10</td>\n",
              "      <td>2.74</td>\n",
              "      <td>24.5</td>\n",
              "      <td>96</td>\n",
              "      <td>2.05</td>\n",
              "      <td>0.76</td>\n",
              "      <td>0.56</td>\n",
              "      <td>1.35</td>\n",
              "      <td>9.20</td>\n",
              "      <td>0.61</td>\n",
              "      <td>1.60</td>\n",
              "      <td>560</td>\n",
              "    </tr>\n",
              "  </tbody>\n",
              "</table>\n",
              "<p>178 rows × 14 columns</p>\n",
              "</div>"
            ],
            "text/plain": [
              "     Type  Alcohol  Malic   Ash  ...  Color   Hue  Dilution  Proline\n",
              "0       1    14.23   1.71  2.43  ...   5.64  1.04      3.92     1065\n",
              "1       1    13.20   1.78  2.14  ...   4.38  1.05      3.40     1050\n",
              "2       1    13.16   2.36  2.67  ...   5.68  1.03      3.17     1185\n",
              "3       1    14.37   1.95  2.50  ...   7.80  0.86      3.45     1480\n",
              "4       1    13.24   2.59  2.87  ...   4.32  1.04      2.93      735\n",
              "..    ...      ...    ...   ...  ...    ...   ...       ...      ...\n",
              "173     3    13.71   5.65  2.45  ...   7.70  0.64      1.74      740\n",
              "174     3    13.40   3.91  2.48  ...   7.30  0.70      1.56      750\n",
              "175     3    13.27   4.28  2.26  ...  10.20  0.59      1.56      835\n",
              "176     3    13.17   2.59  2.37  ...   9.30  0.60      1.62      840\n",
              "177     3    14.13   4.10  2.74  ...   9.20  0.61      1.60      560\n",
              "\n",
              "[178 rows x 14 columns]"
            ]
          },
          "metadata": {},
          "execution_count": 33
        }
      ]
    },
    {
      "cell_type": "code",
      "metadata": {
        "colab": {
          "base_uri": "https://localhost:8080/"
        },
        "id": "kitye-0gVchY",
        "outputId": "71bf0c23-ddc2-4c7a-eb9a-449c37b00445"
      },
      "source": [
        "wine_data.info()"
      ],
      "execution_count": 34,
      "outputs": [
        {
          "output_type": "stream",
          "name": "stdout",
          "text": [
            "<class 'pandas.core.frame.DataFrame'>\n",
            "RangeIndex: 178 entries, 0 to 177\n",
            "Data columns (total 14 columns):\n",
            " #   Column           Non-Null Count  Dtype  \n",
            "---  ------           --------------  -----  \n",
            " 0   Type             178 non-null    int64  \n",
            " 1   Alcohol          178 non-null    float64\n",
            " 2   Malic            178 non-null    float64\n",
            " 3   Ash              178 non-null    float64\n",
            " 4   Alcalinity       178 non-null    float64\n",
            " 5   Magnesium        178 non-null    int64  \n",
            " 6   Phenols          178 non-null    float64\n",
            " 7   Flavanoids       178 non-null    float64\n",
            " 8   Nonflavanoids    178 non-null    float64\n",
            " 9   Proanthocyanins  178 non-null    float64\n",
            " 10  Color            178 non-null    float64\n",
            " 11  Hue              178 non-null    float64\n",
            " 12  Dilution         178 non-null    float64\n",
            " 13  Proline          178 non-null    int64  \n",
            "dtypes: float64(11), int64(3)\n",
            "memory usage: 19.6 KB\n"
          ]
        }
      ]
    },
    {
      "cell_type": "code",
      "metadata": {
        "id": "adMtxcoXaJjN"
      },
      "source": [
        "# Scaling the data\n",
        "wine_scale = scale(wine_data.iloc[:,1:])"
      ],
      "execution_count": 44,
      "outputs": []
    },
    {
      "cell_type": "code",
      "metadata": {
        "colab": {
          "base_uri": "https://localhost:8080/"
        },
        "id": "IYSfGW9nanIf",
        "outputId": "879a873f-584c-454e-d465-5ca10be2e311"
      },
      "source": [
        "wine_scale"
      ],
      "execution_count": 46,
      "outputs": [
        {
          "output_type": "execute_result",
          "data": {
            "text/plain": [
              "array([[ 1.51861254, -0.5622498 ,  0.23205254, ...,  0.36217728,\n",
              "         1.84791957,  1.01300893],\n",
              "       [ 0.24628963, -0.49941338, -0.82799632, ...,  0.40605066,\n",
              "         1.1134493 ,  0.96524152],\n",
              "       [ 0.19687903,  0.02123125,  1.10933436, ...,  0.31830389,\n",
              "         0.78858745,  1.39514818],\n",
              "       ...,\n",
              "       [ 0.33275817,  1.74474449, -0.38935541, ..., -1.61212515,\n",
              "        -1.48544548,  0.28057537],\n",
              "       [ 0.20923168,  0.22769377,  0.01273209, ..., -1.56825176,\n",
              "        -1.40069891,  0.29649784],\n",
              "       [ 1.39508604,  1.58316512,  1.36520822, ..., -1.52437837,\n",
              "        -1.42894777, -0.59516041]])"
            ]
          },
          "metadata": {},
          "execution_count": 46
        }
      ]
    },
    {
      "cell_type": "code",
      "metadata": {
        "id": "tVLi_nJDbtSi"
      },
      "source": [
        "#applying PCA\n",
        "pca = PCA()\n",
        "pca_values =pca.fit_transform(wine_scale)"
      ],
      "execution_count": 74,
      "outputs": []
    },
    {
      "cell_type": "code",
      "metadata": {
        "colab": {
          "base_uri": "https://localhost:8080/"
        },
        "id": "YWtvx_TfbtGH",
        "outputId": "0867a84a-fc91-4c34-fc61-058594a4d117"
      },
      "source": [
        "pca_values"
      ],
      "execution_count": 75,
      "outputs": [
        {
          "output_type": "execute_result",
          "data": {
            "text/plain": [
              "array([[ 3.31675081e+00, -1.44346263e+00, -1.65739045e-01, ...,\n",
              "        -4.51563395e-01,  5.40810414e-01, -6.62386309e-02],\n",
              "       [ 2.20946492e+00,  3.33392887e-01, -2.02645737e+00, ...,\n",
              "        -1.42657306e-01,  3.88237741e-01,  3.63650247e-03],\n",
              "       [ 2.51674015e+00, -1.03115130e+00,  9.82818670e-01, ...,\n",
              "        -2.86672847e-01,  5.83573183e-04,  2.17165104e-02],\n",
              "       ...,\n",
              "       [-2.67783946e+00, -2.76089913e+00, -9.40941877e-01, ...,\n",
              "         5.12492025e-01,  6.98766451e-01,  7.20776948e-02],\n",
              "       [-2.38701709e+00, -2.29734668e+00, -5.50696197e-01, ...,\n",
              "         2.99821968e-01,  3.39820654e-01, -2.18657605e-02],\n",
              "       [-3.20875816e+00, -2.76891957e+00,  1.01391366e+00, ...,\n",
              "        -2.29964331e-01, -1.88787963e-01, -3.23964720e-01]])"
            ]
          },
          "metadata": {},
          "execution_count": 75
        }
      ]
    },
    {
      "cell_type": "code",
      "metadata": {
        "colab": {
          "base_uri": "https://localhost:8080/"
        },
        "id": "jQqRJ-rjcHVR",
        "outputId": "8292dcbd-5e95-49a0-9b3a-a53ad4e11a86"
      },
      "source": [
        "# PCA variance\n",
        "var = pca.explained_variance_\n",
        "var"
      ],
      "execution_count": 77,
      "outputs": [
        {
          "output_type": "execute_result",
          "data": {
            "text/plain": [
              "array([4.73243698, 2.51108093, 1.45424187, 0.92416587, 0.85804868,\n",
              "       0.64528221, 0.55414147, 0.35046627, 0.29051203, 0.25232001,\n",
              "       0.22706428, 0.16972374, 0.10396199])"
            ]
          },
          "metadata": {},
          "execution_count": 77
        }
      ]
    },
    {
      "cell_type": "code",
      "metadata": {
        "colab": {
          "base_uri": "https://localhost:8080/"
        },
        "id": "xWqdiQSjnLC6",
        "outputId": "24263366-b2a1-42e0-9669-5df62985f2b7"
      },
      "source": [
        "#PCA variance ratio\n",
        "var_ratio =pca.explained_variance_ratio_\n",
        "var_ratio"
      ],
      "execution_count": 78,
      "outputs": [
        {
          "output_type": "execute_result",
          "data": {
            "text/plain": [
              "array([0.36198848, 0.1920749 , 0.11123631, 0.0706903 , 0.06563294,\n",
              "       0.04935823, 0.04238679, 0.02680749, 0.02222153, 0.01930019,\n",
              "       0.01736836, 0.01298233, 0.00795215])"
            ]
          },
          "metadata": {},
          "execution_count": 78
        }
      ]
    },
    {
      "cell_type": "code",
      "metadata": {
        "colab": {
          "base_uri": "https://localhost:8080/"
        },
        "id": "3Bo9n_AScHML",
        "outputId": "52186beb-5766-40b3-f61b-95de532987c1"
      },
      "source": [
        "# cumulative variance ratio\n",
        "cum_var = np.cumsum(np.round(var_ratio, 4)*100)\n",
        "cum_var"
      ],
      "execution_count": 79,
      "outputs": [
        {
          "output_type": "execute_result",
          "data": {
            "text/plain": [
              "array([ 36.2 ,  55.41,  66.53,  73.6 ,  80.16,  85.1 ,  89.34,  92.02,\n",
              "        94.24,  96.17,  97.91,  99.21, 100.01])"
            ]
          },
          "metadata": {},
          "execution_count": 79
        }
      ]
    },
    {
      "cell_type": "code",
      "metadata": {
        "colab": {
          "base_uri": "https://localhost:8080/"
        },
        "id": "fl0U6NEFcHAa",
        "outputId": "ab5e3fa0-5082-4432-feae-a93f9b2e9c6b"
      },
      "source": [
        "#PC weights\n",
        "pca.components_"
      ],
      "execution_count": 80,
      "outputs": [
        {
          "output_type": "execute_result",
          "data": {
            "text/plain": [
              "array([[ 0.1443294 , -0.24518758, -0.00205106, -0.23932041,  0.14199204,\n",
              "         0.39466085,  0.4229343 , -0.2985331 ,  0.31342949, -0.0886167 ,\n",
              "         0.29671456,  0.37616741,  0.28675223],\n",
              "       [-0.48365155, -0.22493093, -0.31606881,  0.0105905 , -0.299634  ,\n",
              "        -0.06503951,  0.00335981, -0.02877949, -0.03930172, -0.52999567,\n",
              "         0.27923515,  0.16449619, -0.36490283],\n",
              "       [-0.20738262,  0.08901289,  0.6262239 ,  0.61208035,  0.13075693,\n",
              "         0.14617896,  0.1506819 ,  0.17036816,  0.14945431, -0.13730621,\n",
              "         0.08522192,  0.16600459, -0.12674592],\n",
              "       [-0.0178563 ,  0.53689028, -0.21417556,  0.06085941, -0.35179658,\n",
              "         0.19806835,  0.15229479, -0.20330102,  0.39905653,  0.06592568,\n",
              "        -0.42777141,  0.18412074, -0.23207086],\n",
              "       [-0.26566365,  0.03521363, -0.14302547,  0.06610294,  0.72704851,\n",
              "        -0.14931841, -0.10902584, -0.50070298,  0.13685982, -0.07643678,\n",
              "        -0.17361452, -0.10116099, -0.1578688 ],\n",
              "       [-0.21353865, -0.53681385, -0.15447466,  0.10082451, -0.03814394,\n",
              "         0.0841223 ,  0.01892002,  0.25859401,  0.53379539,  0.41864414,\n",
              "        -0.10598274, -0.26585107, -0.11972557],\n",
              "       [-0.05639636,  0.42052391, -0.14917061, -0.28696914,  0.3228833 ,\n",
              "        -0.02792498, -0.06068521,  0.59544729,  0.37213935, -0.22771214,\n",
              "         0.23207564, -0.0447637 ,  0.0768045 ],\n",
              "       [-0.39613926, -0.06582674,  0.17026002, -0.42797018,  0.15636143,\n",
              "         0.40593409,  0.18724536,  0.23328465, -0.36822675,  0.03379692,\n",
              "        -0.43662362,  0.07810789, -0.12002267],\n",
              "       [ 0.50861912, -0.07528304, -0.30769445,  0.20044931,  0.27140257,\n",
              "         0.28603452,  0.04957849,  0.19550132, -0.20914487,  0.05621752,\n",
              "         0.08582839,  0.1372269 , -0.57578611],\n",
              "       [ 0.21160473, -0.30907994, -0.02712539,  0.05279942,  0.06787022,\n",
              "        -0.32013135, -0.16315051,  0.21553507,  0.1341839 , -0.29077518,\n",
              "        -0.52239889,  0.52370587,  0.162116  ],\n",
              "       [-0.22591696,  0.07648554, -0.49869142,  0.47931378,  0.07128891,\n",
              "         0.30434119, -0.02569409,  0.11689586, -0.23736257,  0.0318388 ,\n",
              "        -0.04821201,  0.0464233 ,  0.53926983],\n",
              "       [-0.26628645,  0.12169604, -0.04962237, -0.05574287,  0.06222011,\n",
              "        -0.30388245, -0.04289883,  0.04235219, -0.09555303,  0.60422163,\n",
              "         0.259214  ,  0.60095872, -0.07940162],\n",
              "       [ 0.01496997,  0.02596375, -0.14121803,  0.09168285,  0.05677422,\n",
              "        -0.46390791,  0.83225706,  0.11403985, -0.11691707, -0.0119928 ,\n",
              "        -0.08988884, -0.15671813,  0.01444734]])"
            ]
          },
          "metadata": {},
          "execution_count": 80
        }
      ]
    },
    {
      "cell_type": "code",
      "metadata": {
        "colab": {
          "base_uri": "https://localhost:8080/",
          "height": 282
        },
        "id": "eqSsjrc3pnMd",
        "outputId": "63e3dc1c-8cd2-4c87-9bac-348ef2c35660"
      },
      "source": [
        "# Variance plot for PCA components obtained \n",
        "plt.plot(cum_var,color=\"red\")"
      ],
      "execution_count": 81,
      "outputs": [
        {
          "output_type": "execute_result",
          "data": {
            "text/plain": [
              "[<matplotlib.lines.Line2D at 0x7f88d67c7a90>]"
            ]
          },
          "metadata": {},
          "execution_count": 81
        },
        {
          "output_type": "display_data",
          "data": {
            "image/png": "[encoded data removed]",
            "text/plain": [
              "<Figure size 432x288 with 1 Axes>"
            ]
          },
          "metadata": {
            "needs_background": "light"
          }
        }
      ]
    },
    {
      "cell_type": "code",
      "metadata": {
        "colab": {
          "base_uri": "https://localhost:8080/"
        },
        "id": "L2nKPilYpnP1",
        "outputId": "bf6505c0-a92d-42fe-d100-3f6fc7dfbbab"
      },
      "source": [
        "pca_values[:,0:3]"
      ],
      "execution_count": 179,
      "outputs": [
        {
          "output_type": "execute_result",
          "data": {
            "text/plain": [
              "array([[ 3.31675081e+00, -1.44346263e+00, -1.65739045e-01],\n",
              "       [ 2.20946492e+00,  3.33392887e-01, -2.02645737e+00],\n",
              "       [ 2.51674015e+00, -1.03115130e+00,  9.82818670e-01],\n",
              "       [ 3.75706561e+00, -2.75637191e+00, -1.76191842e-01],\n",
              "       [ 1.00890849e+00, -8.69830821e-01,  2.02668822e+00],\n",
              "       [ 3.05025392e+00, -2.12240111e+00, -6.29395827e-01],\n",
              "       [ 2.44908967e+00, -1.17485013e+00, -9.77094891e-01],\n",
              "       [ 2.05943687e+00, -1.60896307e+00,  1.46281883e-01],\n",
              "       [ 2.51087430e+00, -9.18070957e-01, -1.77096903e+00],\n",
              "       [ 2.75362819e+00, -7.89437674e-01, -9.84247490e-01],\n",
              "       [ 3.47973668e+00, -1.30233324e+00, -4.22735217e-01],\n",
              "       [ 1.75475290e+00, -6.11977229e-01, -1.19087832e+00],\n",
              "       [ 2.11346234e+00, -6.75706339e-01, -8.65086426e-01],\n",
              "       [ 3.45815682e+00, -1.13062988e+00, -1.20427635e+00],\n",
              "       [ 4.31278391e+00, -2.09597558e+00, -1.26391275e+00],\n",
              "       [ 2.30518820e+00, -1.66255173e+00,  2.17902616e-01],\n",
              "       [ 2.17195527e+00, -2.32730534e+00,  8.31729866e-01],\n",
              "       [ 1.89897118e+00, -1.63136888e+00,  7.94913792e-01],\n",
              "       [ 3.54198508e+00, -2.51834367e+00, -4.85458508e-01],\n",
              "       [ 2.08452220e+00, -1.06113799e+00, -1.64746678e-01],\n",
              "       [ 3.12440254e+00, -7.86897106e-01, -3.64887083e-01],\n",
              "       [ 1.08657007e+00, -2.41743551e-01,  9.36961600e-01],\n",
              "       [ 2.53522408e+00,  9.18406207e-02, -3.11932659e-01],\n",
              "       [ 1.64498834e+00,  5.16278930e-01,  1.43885095e-01],\n",
              "       [ 1.76157587e+00,  3.17148933e-01,  8.90285647e-01],\n",
              "       [ 9.90079102e-01, -9.40667338e-01,  3.82090801e+00],\n",
              "       [ 1.77527763e+00, -6.86175134e-01, -8.67004065e-02],\n",
              "       [ 1.23542396e+00,  8.98070414e-02, -1.38689654e+00],\n",
              "       [ 2.18840633e+00, -6.89569621e-01,  1.39456688e+00],\n",
              "       [ 2.25610898e+00, -1.91461937e-01, -1.09265726e+00],\n",
              "       [ 2.50022003e+00, -1.24083383e+00,  1.38601785e+00],\n",
              "       [ 2.67741105e+00, -1.47187365e+00, -3.32261728e-01],\n",
              "       [ 1.62857912e+00, -5.27044506e-02, -1.67128706e-01],\n",
              "       [ 1.90269086e+00, -1.63306043e+00,  1.17208212e+00],\n",
              "       [ 1.41038853e+00, -6.97934325e-01,  4.79743025e-01],\n",
              "       [ 1.90382623e+00, -1.76710951e-01,  4.50835040e-01],\n",
              "       [ 1.38486223e+00, -6.58639854e-01,  4.58438581e-01],\n",
              "       [ 1.12220741e+00, -1.14109760e-01, -3.91072767e-02],\n",
              "       [ 1.50219450e+00,  7.69432006e-01, -1.42617735e+00],\n",
              "       [ 2.52980109e+00, -1.80300198e+00, -3.43152389e-01],\n",
              "       [ 2.58809543e+00, -7.79616304e-01, -1.18477466e-01],\n",
              "       [ 6.68481994e-01, -1.69960941e-01, -7.83362548e-01],\n",
              "       [ 3.07080699e+00, -1.15591896e+00, -3.12758084e-01],\n",
              "       [ 4.62209138e-01, -3.30742132e-01, -2.01476496e-01],\n",
              "       [ 2.10135193e+00,  7.10089210e-02, -6.55849415e-01],\n",
              "       [ 1.13616618e+00, -1.77710739e+00,  2.87057358e-02],\n",
              "       [ 2.72660096e+00, -1.19133469e+00, -5.39773261e-01],\n",
              "       [ 2.82133927e+00, -6.46258599e-01, -1.15555241e+00],\n",
              "       [ 2.00985085e+00, -1.24702946e+00, -5.72939879e-02],\n",
              "       [ 2.70749130e+00, -1.75196741e+00, -6.43113612e-01],\n",
              "       [ 3.21491747e+00, -1.66991995e-01, -1.97357168e+00],\n",
              "       [ 2.85895983e+00, -7.45278804e-01,  4.71950216e-03],\n",
              "       [ 3.50560436e+00, -1.61273386e+00, -5.20774530e-01],\n",
              "       [ 2.22479138e+00, -1.87516800e+00,  3.39549850e-01],\n",
              "       [ 2.14698782e+00, -1.01675154e+00, -9.57762762e-01],\n",
              "       [ 2.46932948e+00, -1.32900831e+00,  5.13437453e-01],\n",
              "       [ 2.74151791e+00, -1.43654878e+00, -6.12473396e-01],\n",
              "       [ 2.17374092e+00, -1.21219984e+00,  2.61779593e-01],\n",
              "       [ 3.13938015e+00, -1.73157912e+00, -2.85661413e-01],\n",
              "       [-9.28581969e-01,  3.07348616e+00, -4.58506401e+00],\n",
              "       [-1.54248014e+00,  1.38144351e+00, -8.74683112e-01],\n",
              "       [-1.83624976e+00,  8.29984123e-01, -1.60570219e+00],\n",
              "       [ 3.06068341e-02,  1.26278614e+00, -1.78440801e+00],\n",
              "       [ 2.05026161e+00,  1.92503260e+00, -7.36877735e-03],\n",
              "       [-6.09680827e-01,  1.90805881e+00,  6.79357938e-01],\n",
              "       [ 9.00227839e-01,  7.63911474e-01,  5.73361302e-01],\n",
              "       [ 2.24850719e+00,  1.88459248e+00, -2.03184019e+00],\n",
              "       [ 1.83384027e-01,  2.42714611e+00, -1.06974556e+00],\n",
              "       [-8.12805027e-01,  2.20513987e-01, -7.07005396e-01],\n",
              "       [ 1.97562050e+00,  1.40328323e+00, -1.23827622e+00],\n",
              "       [-1.57221622e+00,  8.84983137e-01, -6.28997950e-01],\n",
              "       [ 1.65768181e+00,  9.56712197e-01,  1.95258422e+00],\n",
              "       [-7.25372388e-01,  1.06364540e+00,  8.03322286e-02],\n",
              "       [ 2.56222717e+00, -2.60198551e-01,  3.37439396e+00],\n",
              "       [ 1.83256757e+00,  1.28787820e+00,  4.58280027e-01],\n",
              "       [-8.67992903e-01,  2.44410119e+00, -1.56333318e+00],\n",
              "       [ 3.70014404e-01,  2.15390698e+00, -2.44938635e+00],\n",
              "       [-1.45737704e+00,  1.38335177e+00, -2.27306902e-01],\n",
              "       [ 1.26293085e+00,  7.70849530e-01, -1.18422452e+00],\n",
              "       [ 3.76150372e-01,  1.02704340e+00,  1.79446629e+00],\n",
              "       [ 7.62063904e-01,  3.37505381e+00, -3.57470056e-01],\n",
              "       [ 1.03457797e+00,  1.45070974e+00, -3.63011773e-01],\n",
              "       [-4.94876756e-01,  2.38124353e+00,  1.33574318e+00],\n",
              "       [-2.53897708e+00,  8.74433573e-02,  4.74251393e-01],\n",
              "       [ 8.35320145e-01,  1.47367055e+00,  6.10093576e-01],\n",
              "       [ 7.87904615e-01,  2.02662652e+00, -2.54723404e-01],\n",
              "       [-8.06832156e-01,  2.23383039e+00,  7.72855797e-01],\n",
              "       [-5.58042625e-01,  2.37298543e+00,  2.30761140e+00],\n",
              "       [-1.11511104e+00,  1.80224719e+00,  9.59253308e-01],\n",
              "       [-5.55722830e-01,  2.65754004e+00,  8.49126898e-01],\n",
              "       [-1.34928528e+00,  2.11800147e+00, -4.76523208e-02],\n",
              "       [-1.56448261e+00,  1.85221452e+00,  7.81067031e-01],\n",
              "       [-1.93255561e+00,  1.55949546e+00, -8.92746761e-02],\n",
              "       [ 7.46665942e-01,  2.31293171e+00,  1.14679769e-01],\n",
              "       [ 9.57455364e-01,  2.22352843e+00,  1.42444774e-01],\n",
              "       [ 2.54386518e+00, -1.69274023e-01,  7.88696991e-01],\n",
              "       [-5.43952589e-01,  3.68926546e-01,  1.30889593e+00],\n",
              "       [ 1.03104975e+00,  2.56556935e+00, -1.08639017e+00],\n",
              "       [ 2.25190942e+00,  1.43274138e+00, -2.30208244e-01],\n",
              "       [ 1.41021602e+00,  2.16619177e+00,  7.48896411e-01],\n",
              "       [ 7.97719793e-01,  2.37694880e+00, -1.56811253e+00],\n",
              "       [-5.49531727e-01,  2.29312864e+00, -1.49893532e+00],\n",
              "       [-1.61173740e-01,  1.16448332e+00,  1.00371310e+00],\n",
              "       [-6.59794942e-01,  2.67996119e+00, -7.64920868e-01],\n",
              "       [ 3.92354408e-01,  2.09873171e+00, -4.71850008e-01],\n",
              "       [-1.77249908e+00,  1.71728847e+00,  9.47033174e-01],\n",
              "       [-3.66267357e-01,  2.16935330e+00, -4.81324235e-01],\n",
              "       [-1.62067257e+00,  1.35558339e+00,  2.87159001e-01],\n",
              "       [ 8.25357835e-02,  2.30623459e+00, -4.63574989e-01],\n",
              "       [ 1.57827507e+00,  1.46203429e+00,  1.77964595e+00],\n",
              "       [ 1.42056925e+00,  1.41820664e+00,  1.39275829e-01],\n",
              "       [-2.78702754e-01,  1.93056809e+00,  7.86705530e-02],\n",
              "       [-1.30314497e+00,  7.63172314e-01,  1.99959651e+00],\n",
              "       [-4.57071866e-01,  2.26941561e+00,  1.06133897e+00],\n",
              "       [-4.94185847e-01,  1.93904505e+00,  1.32393807e+00],\n",
              "       [ 4.82074410e-01,  3.87178385e+00,  1.34427122e+00],\n",
              "       [-2.52888878e-01,  2.82149237e+00, -3.02639785e-01],\n",
              "       [-1.07227638e-01,  1.92892204e+00,  6.90148243e-01],\n",
              "       [-2.43301260e+00,  1.25714104e+00, -1.90302740e+00],\n",
              "       [-5.51089539e-01,  2.22216155e+00, -3.56228830e-01],\n",
              "       [ 7.39621929e-01,  1.40895667e+00,  1.12534549e+00],\n",
              "       [ 1.33632173e+00, -2.53336931e-01,  5.34538818e+00],\n",
              "       [-1.17708700e+00,  6.63966840e-01,  3.01022189e+00],\n",
              "       [-4.62335008e-01,  6.18288179e-01,  4.83442366e-01],\n",
              "       [ 9.78474079e-01,  1.44557050e+00,  1.48123697e+00],\n",
              "       [-9.68097263e-02,  2.10999799e+00,  4.34826116e-01],\n",
              "       [ 3.84871459e-02,  1.26676211e+00,  6.87577913e-01],\n",
              "       [-1.59715850e+00,  1.20814357e+00,  3.36117556e+00],\n",
              "       [-4.79564916e-01,  1.93884066e+00,  1.29650752e+00],\n",
              "       [-1.79283347e+00,  1.15028810e+00,  7.82800173e-01],\n",
              "       [-1.32710166e+00, -1.70389232e-01, -1.18001336e+00],\n",
              "       [-2.38450083e+00, -3.74582606e-01, -7.23822595e-01],\n",
              "       [-2.93694010e+00, -2.63861830e-01, -1.67639816e-01],\n",
              "       [-2.14681113e+00, -3.68254952e-01, -4.53301301e-01],\n",
              "       [-2.36986949e+00,  4.59634809e-01, -1.10139979e+00],\n",
              "       [-3.06384157e+00, -3.53412835e-01, -1.09912410e+00],\n",
              "       [-3.91575378e+00, -1.54582519e-01,  2.21827800e-01],\n",
              "       [-3.93646339e+00, -6.59687233e-01,  1.71221542e+00],\n",
              "       [-3.09427612e+00, -3.48842759e-01, -1.02683141e+00],\n",
              "       [-2.37447163e+00, -2.91980352e-01,  1.24191433e+00],\n",
              "       [-2.77881295e+00, -2.86804873e-01,  6.09670124e-01],\n",
              "       [-2.28656128e+00, -3.72507845e-01, -9.71643032e-01],\n",
              "       [-2.98563349e+00, -4.89217908e-01,  9.46952932e-01],\n",
              "       [-2.37519470e+00, -4.82333717e-01, -2.52883994e-01],\n",
              "       [-2.20986553e+00, -1.16005250e+00, -1.24512523e+00],\n",
              "       [-2.62562100e+00, -5.63160764e-01, -8.55961082e-01],\n",
              "       [-4.28063878e+00, -6.49670964e-01, -1.45819696e+00],\n",
              "       [-3.58264137e+00, -1.27270275e+00, -1.10784038e-01],\n",
              "       [-2.80706372e+00, -1.57053379e+00, -4.72527935e-01],\n",
              "       [-2.89965933e+00, -2.04105701e+00, -4.95959810e-01],\n",
              "       [-2.32073698e+00, -2.35636608e+00,  4.37681744e-01],\n",
              "       [-2.54983095e+00, -2.04528309e+00, -3.12267999e-01],\n",
              "       [-1.81254128e+00, -1.52764595e+00,  1.36258978e+00],\n",
              "       [-2.76014464e+00, -2.13893235e+00, -9.64628688e-01],\n",
              "       [-2.73715050e+00, -4.09886271e-01, -1.19040468e+00],\n",
              "       [-3.60486887e+00, -1.80238422e+00, -9.40368613e-02],\n",
              "       [-2.88982600e+00, -1.92521861e+00, -7.82322556e-01],\n",
              "       [-3.39215608e+00, -1.31187639e+00,  1.60202597e+00],\n",
              "       [-1.04818190e+00, -3.51508969e+00,  1.16003857e+00],\n",
              "       [-1.60991228e+00, -2.40663816e+00,  5.48559697e-01],\n",
              "       [-3.14313097e+00, -7.38161044e-01, -9.09987239e-02],\n",
              "       [-2.24015690e+00, -1.17546529e+00, -1.01376932e-01],\n",
              "       [-2.84767378e+00, -5.56043966e-01,  8.04215218e-01],\n",
              "       [-2.59749706e+00, -6.97965537e-01, -8.84939521e-01],\n",
              "       [-2.94929937e+00, -1.55530896e+00, -9.83400727e-01],\n",
              "       [-3.53003227e+00, -8.82526796e-01, -4.66029128e-01],\n",
              "       [-2.40611054e+00, -2.59235618e+00,  4.28226211e-01],\n",
              "       [-2.92908473e+00, -1.27444695e+00, -1.21335827e+00],\n",
              "       [-2.18141278e+00, -2.07753731e+00,  7.63782552e-01],\n",
              "       [-2.38092779e+00, -2.58866743e+00,  1.41804403e+00],\n",
              "       [-3.21161722e+00,  2.51249104e-01, -8.47129152e-01],\n",
              "       [-3.67791872e+00, -8.47747844e-01, -1.33942023e+00],\n",
              "       [-2.46555580e+00, -2.19379830e+00, -9.18780960e-01],\n",
              "       [-3.37052415e+00, -2.21628914e+00, -3.42569512e-01],\n",
              "       [-2.60195585e+00, -1.75722935e+00,  2.07581355e-01],\n",
              "       [-2.67783946e+00, -2.76089913e+00, -9.40941877e-01],\n",
              "       [-2.38701709e+00, -2.29734668e+00, -5.50696197e-01],\n",
              "       [-3.20875816e+00, -2.76891957e+00,  1.01391366e+00]])"
            ]
          },
          "metadata": {},
          "execution_count": 179
        }
      ]
    },
    {
      "cell_type": "code",
      "metadata": {
        "id": "-tU01zKSpnYL"
      },
      "source": [
        "final_df = pd.concat([ wine_data['Type'], pd.DataFrame(pca_values[:,0:3], columns=['PC1','PC2','PC3'])], axis=1)"
      ],
      "execution_count": 103,
      "outputs": []
    },
    {
      "cell_type": "code",
      "metadata": {
        "colab": {
          "base_uri": "https://localhost:8080/",
          "height": 419
        },
        "id": "PSmkLB6rvC9f",
        "outputId": "fe47cbc2-21dc-44de-ac39-1059fb3205d0"
      },
      "source": [
        "final_df"
      ],
      "execution_count": 104,
      "outputs": [
        {
          "output_type": "execute_result",
          "data": {
            "text/html": [
              "<div>\n",
              "<style scoped>\n",
              "    .dataframe tbody tr th:only-of-type {\n",
              "        vertical-align: middle;\n",
              "    }\n",
              "\n",
              "    .dataframe tbody tr th {\n",
              "        vertical-align: top;\n",
              "    }\n",
              "\n",
              "    .dataframe thead th {\n",
              "        text-align: right;\n",
              "    }\n",
              "</style>\n",
              "<table border=\"1\" class=\"dataframe\">\n",
              "  <thead>\n",
              "    <tr style=\"text-align: right;\">\n",
              "      <th></th>\n",
              "      <th>Type</th>\n",
              "      <th>PC1</th>\n",
              "      <th>PC2</th>\n",
              "      <th>PC3</th>\n",
              "    </tr>\n",
              "  </thead>\n",
              "  <tbody>\n",
              "    <tr>\n",
              "      <th>0</th>\n",
              "      <td>1</td>\n",
              "      <td>3.316751</td>\n",
              "      <td>-1.443463</td>\n",
              "      <td>-0.165739</td>\n",
              "    </tr>\n",
              "    <tr>\n",
              "      <th>1</th>\n",
              "      <td>1</td>\n",
              "      <td>2.209465</td>\n",
              "      <td>0.333393</td>\n",
              "      <td>-2.026457</td>\n",
              "    </tr>\n",
              "    <tr>\n",
              "      <th>2</th>\n",
              "      <td>1</td>\n",
              "      <td>2.516740</td>\n",
              "      <td>-1.031151</td>\n",
              "      <td>0.982819</td>\n",
              "    </tr>\n",
              "    <tr>\n",
              "      <th>3</th>\n",
              "      <td>1</td>\n",
              "      <td>3.757066</td>\n",
              "      <td>-2.756372</td>\n",
              "      <td>-0.176192</td>\n",
              "    </tr>\n",
              "    <tr>\n",
              "      <th>4</th>\n",
              "      <td>1</td>\n",
              "      <td>1.008908</td>\n",
              "      <td>-0.869831</td>\n",
              "      <td>2.026688</td>\n",
              "    </tr>\n",
              "    <tr>\n",
              "      <th>...</th>\n",
              "      <td>...</td>\n",
              "      <td>...</td>\n",
              "      <td>...</td>\n",
              "      <td>...</td>\n",
              "    </tr>\n",
              "    <tr>\n",
              "      <th>173</th>\n",
              "      <td>3</td>\n",
              "      <td>-3.370524</td>\n",
              "      <td>-2.216289</td>\n",
              "      <td>-0.342570</td>\n",
              "    </tr>\n",
              "    <tr>\n",
              "      <th>174</th>\n",
              "      <td>3</td>\n",
              "      <td>-2.601956</td>\n",
              "      <td>-1.757229</td>\n",
              "      <td>0.207581</td>\n",
              "    </tr>\n",
              "    <tr>\n",
              "      <th>175</th>\n",
              "      <td>3</td>\n",
              "      <td>-2.677839</td>\n",
              "      <td>-2.760899</td>\n",
              "      <td>-0.940942</td>\n",
              "    </tr>\n",
              "    <tr>\n",
              "      <th>176</th>\n",
              "      <td>3</td>\n",
              "      <td>-2.387017</td>\n",
              "      <td>-2.297347</td>\n",
              "      <td>-0.550696</td>\n",
              "    </tr>\n",
              "    <tr>\n",
              "      <th>177</th>\n",
              "      <td>3</td>\n",
              "      <td>-3.208758</td>\n",
              "      <td>-2.768920</td>\n",
              "      <td>1.013914</td>\n",
              "    </tr>\n",
              "  </tbody>\n",
              "</table>\n",
              "<p>178 rows × 4 columns</p>\n",
              "</div>"
            ],
            "text/plain": [
              "     Type       PC1       PC2       PC3\n",
              "0       1  3.316751 -1.443463 -0.165739\n",
              "1       1  2.209465  0.333393 -2.026457\n",
              "2       1  2.516740 -1.031151  0.982819\n",
              "3       1  3.757066 -2.756372 -0.176192\n",
              "4       1  1.008908 -0.869831  2.026688\n",
              "..    ...       ...       ...       ...\n",
              "173     3 -3.370524 -2.216289 -0.342570\n",
              "174     3 -2.601956 -1.757229  0.207581\n",
              "175     3 -2.677839 -2.760899 -0.940942\n",
              "176     3 -2.387017 -2.297347 -0.550696\n",
              "177     3 -3.208758 -2.768920  1.013914\n",
              "\n",
              "[178 rows x 4 columns]"
            ]
          },
          "metadata": {},
          "execution_count": 104
        }
      ]
    },
    {
      "cell_type": "code",
      "metadata": {
        "colab": {
          "base_uri": "https://localhost:8080/",
          "height": 717
        },
        "id": "XpICpGUlpnVh",
        "outputId": "110eb90d-8028-4177-dabc-b90cc0f086fd"
      },
      "source": [
        "# Visualization of PCs\n",
        "import seaborn as sns\n",
        "fig=plt.figure(figsize=(16,12))\n",
        "sns.scatterplot(data= final_df)"
      ],
      "execution_count": 105,
      "outputs": [
        {
          "output_type": "execute_result",
          "data": {
            "text/plain": [
              "<matplotlib.axes._subplots.AxesSubplot at 0x7f88d44269d0>"
            ]
          },
          "metadata": {},
          "execution_count": 105
        },
        {
          "output_type": "display_data",
          "data": {
            "image/png": "[encoded data removed]",
            "text/plain": [
              "<Figure size 1152x864 with 1 Axes>"
            ]
          },
          "metadata": {
            "needs_background": "light"
          }
        }
      ]
    },
    {
      "cell_type": "markdown",
      "metadata": {
        "id": "Nx4Mvpk2A6kv"
      },
      "source": [
        "# **Hierarchical Clustering**\n",
        "**With original data set**"
      ]
    },
    {
      "cell_type": "code",
      "metadata": {
        "id": "UnRJL7zZpnbi"
      },
      "source": [
        "import scipy.cluster.hierarchy as sch\n",
        "from sklearn.cluster import AgglomerativeClustering"
      ],
      "execution_count": 109,
      "outputs": []
    },
    {
      "cell_type": "code",
      "metadata": {
        "id": "3s74BkLjBR8W"
      },
      "source": [
        "wine_h = pd.read_csv('wine.csv')"
      ],
      "execution_count": 152,
      "outputs": []
    },
    {
      "cell_type": "code",
      "metadata": {
        "colab": {
          "base_uri": "https://localhost:8080/",
          "height": 419
        },
        "id": "hOhbb3MFBSIY",
        "outputId": "e3ac1a7c-0ce4-438f-958e-ede415ab578d"
      },
      "source": [
        "wine_h"
      ],
      "execution_count": 153,
      "outputs": [
        {
          "output_type": "execute_result",
          "data": {
            "text/html": [
              "<div>\n",
              "<style scoped>\n",
              "    .dataframe tbody tr th:only-of-type {\n",
              "        vertical-align: middle;\n",
              "    }\n",
              "\n",
              "    .dataframe tbody tr th {\n",
              "        vertical-align: top;\n",
              "    }\n",
              "\n",
              "    .dataframe thead th {\n",
              "        text-align: right;\n",
              "    }\n",
              "</style>\n",
              "<table border=\"1\" class=\"dataframe\">\n",
              "  <thead>\n",
              "    <tr style=\"text-align: right;\">\n",
              "      <th></th>\n",
              "      <th>Type</th>\n",
              "      <th>Alcohol</th>\n",
              "      <th>Malic</th>\n",
              "      <th>Ash</th>\n",
              "      <th>Alcalinity</th>\n",
              "      <th>Magnesium</th>\n",
              "      <th>Phenols</th>\n",
              "      <th>Flavanoids</th>\n",
              "      <th>Nonflavanoids</th>\n",
              "      <th>Proanthocyanins</th>\n",
              "      <th>Color</th>\n",
              "      <th>Hue</th>\n",
              "      <th>Dilution</th>\n",
              "      <th>Proline</th>\n",
              "    </tr>\n",
              "  </thead>\n",
              "  <tbody>\n",
              "    <tr>\n",
              "      <th>0</th>\n",
              "      <td>1</td>\n",
              "      <td>14.23</td>\n",
              "      <td>1.71</td>\n",
              "      <td>2.43</td>\n",
              "      <td>15.6</td>\n",
              "      <td>127</td>\n",
              "      <td>2.80</td>\n",
              "      <td>3.06</td>\n",
              "      <td>0.28</td>\n",
              "      <td>2.29</td>\n",
              "      <td>5.64</td>\n",
              "      <td>1.04</td>\n",
              "      <td>3.92</td>\n",
              "      <td>1065</td>\n",
              "    </tr>\n",
              "    <tr>\n",
              "      <th>1</th>\n",
              "      <td>1</td>\n",
              "      <td>13.20</td>\n",
              "      <td>1.78</td>\n",
              "      <td>2.14</td>\n",
              "      <td>11.2</td>\n",
              "      <td>100</td>\n",
              "      <td>2.65</td>\n",
              "      <td>2.76</td>\n",
              "      <td>0.26</td>\n",
              "      <td>1.28</td>\n",
              "      <td>4.38</td>\n",
              "      <td>1.05</td>\n",
              "      <td>3.40</td>\n",
              "      <td>1050</td>\n",
              "    </tr>\n",
              "    <tr>\n",
              "      <th>2</th>\n",
              "      <td>1</td>\n",
              "      <td>13.16</td>\n",
              "      <td>2.36</td>\n",
              "      <td>2.67</td>\n",
              "      <td>18.6</td>\n",
              "      <td>101</td>\n",
              "      <td>2.80</td>\n",
              "      <td>3.24</td>\n",
              "      <td>0.30</td>\n",
              "      <td>2.81</td>\n",
              "      <td>5.68</td>\n",
              "      <td>1.03</td>\n",
              "      <td>3.17</td>\n",
              "      <td>1185</td>\n",
              "    </tr>\n",
              "    <tr>\n",
              "      <th>3</th>\n",
              "      <td>1</td>\n",
              "      <td>14.37</td>\n",
              "      <td>1.95</td>\n",
              "      <td>2.50</td>\n",
              "      <td>16.8</td>\n",
              "      <td>113</td>\n",
              "      <td>3.85</td>\n",
              "      <td>3.49</td>\n",
              "      <td>0.24</td>\n",
              "      <td>2.18</td>\n",
              "      <td>7.80</td>\n",
              "      <td>0.86</td>\n",
              "      <td>3.45</td>\n",
              "      <td>1480</td>\n",
              "    </tr>\n",
              "    <tr>\n",
              "      <th>4</th>\n",
              "      <td>1</td>\n",
              "      <td>13.24</td>\n",
              "      <td>2.59</td>\n",
              "      <td>2.87</td>\n",
              "      <td>21.0</td>\n",
              "      <td>118</td>\n",
              "      <td>2.80</td>\n",
              "      <td>2.69</td>\n",
              "      <td>0.39</td>\n",
              "      <td>1.82</td>\n",
              "      <td>4.32</td>\n",
              "      <td>1.04</td>\n",
              "      <td>2.93</td>\n",
              "      <td>735</td>\n",
              "    </tr>\n",
              "    <tr>\n",
              "      <th>...</th>\n",
              "      <td>...</td>\n",
              "      <td>...</td>\n",
              "      <td>...</td>\n",
              "      <td>...</td>\n",
              "      <td>...</td>\n",
              "      <td>...</td>\n",
              "      <td>...</td>\n",
              "      <td>...</td>\n",
              "      <td>...</td>\n",
              "      <td>...</td>\n",
              "      <td>...</td>\n",
              "      <td>...</td>\n",
              "      <td>...</td>\n",
              "      <td>...</td>\n",
              "    </tr>\n",
              "    <tr>\n",
              "      <th>173</th>\n",
              "      <td>3</td>\n",
              "      <td>13.71</td>\n",
              "      <td>5.65</td>\n",
              "      <td>2.45</td>\n",
              "      <td>20.5</td>\n",
              "      <td>95</td>\n",
              "      <td>1.68</td>\n",
              "      <td>0.61</td>\n",
              "      <td>0.52</td>\n",
              "      <td>1.06</td>\n",
              "      <td>7.70</td>\n",
              "      <td>0.64</td>\n",
              "      <td>1.74</td>\n",
              "      <td>740</td>\n",
              "    </tr>\n",
              "    <tr>\n",
              "      <th>174</th>\n",
              "      <td>3</td>\n",
              "      <td>13.40</td>\n",
              "      <td>3.91</td>\n",
              "      <td>2.48</td>\n",
              "      <td>23.0</td>\n",
              "      <td>102</td>\n",
              "      <td>1.80</td>\n",
              "      <td>0.75</td>\n",
              "      <td>0.43</td>\n",
              "      <td>1.41</td>\n",
              "      <td>7.30</td>\n",
              "      <td>0.70</td>\n",
              "      <td>1.56</td>\n",
              "      <td>750</td>\n",
              "    </tr>\n",
              "    <tr>\n",
              "      <th>175</th>\n",
              "      <td>3</td>\n",
              "      <td>13.27</td>\n",
              "      <td>4.28</td>\n",
              "      <td>2.26</td>\n",
              "      <td>20.0</td>\n",
              "      <td>120</td>\n",
              "      <td>1.59</td>\n",
              "      <td>0.69</td>\n",
              "      <td>0.43</td>\n",
              "      <td>1.35</td>\n",
              "      <td>10.20</td>\n",
              "      <td>0.59</td>\n",
              "      <td>1.56</td>\n",
              "      <td>835</td>\n",
              "    </tr>\n",
              "    <tr>\n",
              "      <th>176</th>\n",
              "      <td>3</td>\n",
              "      <td>13.17</td>\n",
              "      <td>2.59</td>\n",
              "      <td>2.37</td>\n",
              "      <td>20.0</td>\n",
              "      <td>120</td>\n",
              "      <td>1.65</td>\n",
              "      <td>0.68</td>\n",
              "      <td>0.53</td>\n",
              "      <td>1.46</td>\n",
              "      <td>9.30</td>\n",
              "      <td>0.60</td>\n",
              "      <td>1.62</td>\n",
              "      <td>840</td>\n",
              "    </tr>\n",
              "    <tr>\n",
              "      <th>177</th>\n",
              "      <td>3</td>\n",
              "      <td>14.13</td>\n",
              "      <td>4.10</td>\n",
              "      <td>2.74</td>\n",
              "      <td>24.5</td>\n",
              "      <td>96</td>\n",
              "      <td>2.05</td>\n",
              "      <td>0.76</td>\n",
              "      <td>0.56</td>\n",
              "      <td>1.35</td>\n",
              "      <td>9.20</td>\n",
              "      <td>0.61</td>\n",
              "      <td>1.60</td>\n",
              "      <td>560</td>\n",
              "    </tr>\n",
              "  </tbody>\n",
              "</table>\n",
              "<p>178 rows × 14 columns</p>\n",
              "</div>"
            ],
            "text/plain": [
              "     Type  Alcohol  Malic   Ash  ...  Color   Hue  Dilution  Proline\n",
              "0       1    14.23   1.71  2.43  ...   5.64  1.04      3.92     1065\n",
              "1       1    13.20   1.78  2.14  ...   4.38  1.05      3.40     1050\n",
              "2       1    13.16   2.36  2.67  ...   5.68  1.03      3.17     1185\n",
              "3       1    14.37   1.95  2.50  ...   7.80  0.86      3.45     1480\n",
              "4       1    13.24   2.59  2.87  ...   4.32  1.04      2.93      735\n",
              "..    ...      ...    ...   ...  ...    ...   ...       ...      ...\n",
              "173     3    13.71   5.65  2.45  ...   7.70  0.64      1.74      740\n",
              "174     3    13.40   3.91  2.48  ...   7.30  0.70      1.56      750\n",
              "175     3    13.27   4.28  2.26  ...  10.20  0.59      1.56      835\n",
              "176     3    13.17   2.59  2.37  ...   9.30  0.60      1.62      840\n",
              "177     3    14.13   4.10  2.74  ...   9.20  0.61      1.60      560\n",
              "\n",
              "[178 rows x 14 columns]"
            ]
          },
          "metadata": {},
          "execution_count": 153
        }
      ]
    },
    {
      "cell_type": "code",
      "metadata": {
        "id": "hR2f8AMRKCBw"
      },
      "source": [
        "# scaling data \n",
        "wine_scale = scale(wine_h.iloc[:,1:])"
      ],
      "execution_count": 154,
      "outputs": []
    },
    {
      "cell_type": "code",
      "metadata": {
        "colab": {
          "base_uri": "https://localhost:8080/"
        },
        "id": "4lgdOdafKB1-",
        "outputId": "1f70357b-1852-48a2-cc90-f5e4d3594ca0"
      },
      "source": [
        "wine_scale"
      ],
      "execution_count": 155,
      "outputs": [
        {
          "output_type": "execute_result",
          "data": {
            "text/plain": [
              "array([[ 1.51861254, -0.5622498 ,  0.23205254, ...,  0.36217728,\n",
              "         1.84791957,  1.01300893],\n",
              "       [ 0.24628963, -0.49941338, -0.82799632, ...,  0.40605066,\n",
              "         1.1134493 ,  0.96524152],\n",
              "       [ 0.19687903,  0.02123125,  1.10933436, ...,  0.31830389,\n",
              "         0.78858745,  1.39514818],\n",
              "       ...,\n",
              "       [ 0.33275817,  1.74474449, -0.38935541, ..., -1.61212515,\n",
              "        -1.48544548,  0.28057537],\n",
              "       [ 0.20923168,  0.22769377,  0.01273209, ..., -1.56825176,\n",
              "        -1.40069891,  0.29649784],\n",
              "       [ 1.39508604,  1.58316512,  1.36520822, ..., -1.52437837,\n",
              "        -1.42894777, -0.59516041]])"
            ]
          },
          "metadata": {},
          "execution_count": 155
        }
      ]
    },
    {
      "cell_type": "code",
      "metadata": {
        "colab": {
          "base_uri": "https://localhost:8080/",
          "height": 605
        },
        "id": "nGoteC5RBSRV",
        "outputId": "91c946ce-9cbe-4290-8c27-699822de922f"
      },
      "source": [
        "# Creating Dendrogram\n",
        "from scipy.cluster.hierarchy import linkage\n",
        "Z= linkage( wine_scale, method= 'complete', metric='euclidean')\n",
        "plt.figure(figsize=(15,10))\n",
        "plt.xlabel('index')\n",
        "plt.ylabel('Distance')\n",
        "sch.dendrogram(Z)\n",
        "plt.show()"
      ],
      "execution_count": 156,
      "outputs": [
        {
          "output_type": "display_data",
          "data": {
            "image/png": "[encoded data removed]",
            "text/plain": [
              "<Figure size 1080x720 with 1 Axes>"
            ]
          },
          "metadata": {
            "needs_background": "light"
          }
        }
      ]
    },
    {
      "cell_type": "code",
      "metadata": {
        "colab": {
          "base_uri": "https://localhost:8080/"
        },
        "id": "LR7QPhucBSV5",
        "outputId": "b5fd7076-218c-494d-e2ef-75d00281d848"
      },
      "source": [
        "# Applying algorithm and generating clusters\n",
        "h_complete = AgglomerativeClustering(n_clusters=5, affinity='euclidean', linkage='complete').fit(wine_scale)\n",
        "h_complete.labels_"
      ],
      "execution_count": 157,
      "outputs": [
        {
          "output_type": "execute_result",
          "data": {
            "text/plain": [
              "array([1, 1, 1, 1, 4, 1, 1, 1, 1, 1, 1, 1, 1, 1, 1, 4, 4, 4, 1, 1, 1, 1,\n",
              "       1, 1, 1, 4, 1, 1, 4, 1, 1, 1, 1, 4, 1, 1, 1, 1, 1, 1, 1, 1, 1, 1,\n",
              "       1, 1, 1, 1, 1, 1, 1, 1, 1, 4, 1, 1, 1, 1, 1, 3, 3, 3, 3, 2, 3, 1,\n",
              "       1, 2, 3, 1, 3, 2, 2, 4, 2, 3, 3, 3, 1, 2, 2, 2, 2, 0, 2, 2, 3, 2,\n",
              "       2, 2, 2, 2, 2, 2, 2, 1, 0, 2, 2, 2, 3, 2, 2, 2, 2, 2, 2, 2, 2, 2,\n",
              "       1, 2, 2, 2, 2, 2, 2, 2, 0, 2, 2, 4, 2, 2, 2, 2, 2, 2, 2, 2, 0, 0,\n",
              "       0, 0, 0, 0, 0, 0, 0, 0, 0, 0, 0, 0, 0, 0, 0, 0, 0, 0, 0, 0, 0, 0,\n",
              "       0, 0, 0, 0, 0, 0, 0, 0, 0, 0, 0, 0, 0, 0, 0, 0, 0, 0, 0, 0, 0, 0,\n",
              "       0, 0])"
            ]
          },
          "metadata": {},
          "execution_count": 157
        }
      ]
    },
    {
      "cell_type": "code",
      "metadata": {
        "colab": {
          "base_uri": "https://localhost:8080/",
          "height": 419
        },
        "id": "58wpCPOjBSYr",
        "outputId": "b9366b12-8ab5-43e2-b183-a17d08f7c0da"
      },
      "source": [
        "# Appending cluster labels to data set\n",
        "wine_h['clust']=h_complete.labels_\n",
        "wine_h"
      ],
      "execution_count": 158,
      "outputs": [
        {
          "output_type": "execute_result",
          "data": {
            "text/html": [
              "<div>\n",
              "<style scoped>\n",
              "    .dataframe tbody tr th:only-of-type {\n",
              "        vertical-align: middle;\n",
              "    }\n",
              "\n",
              "    .dataframe tbody tr th {\n",
              "        vertical-align: top;\n",
              "    }\n",
              "\n",
              "    .dataframe thead th {\n",
              "        text-align: right;\n",
              "    }\n",
              "</style>\n",
              "<table border=\"1\" class=\"dataframe\">\n",
              "  <thead>\n",
              "    <tr style=\"text-align: right;\">\n",
              "      <th></th>\n",
              "      <th>Type</th>\n",
              "      <th>Alcohol</th>\n",
              "      <th>Malic</th>\n",
              "      <th>Ash</th>\n",
              "      <th>Alcalinity</th>\n",
              "      <th>Magnesium</th>\n",
              "      <th>Phenols</th>\n",
              "      <th>Flavanoids</th>\n",
              "      <th>Nonflavanoids</th>\n",
              "      <th>Proanthocyanins</th>\n",
              "      <th>Color</th>\n",
              "      <th>Hue</th>\n",
              "      <th>Dilution</th>\n",
              "      <th>Proline</th>\n",
              "      <th>clust</th>\n",
              "    </tr>\n",
              "  </thead>\n",
              "  <tbody>\n",
              "    <tr>\n",
              "      <th>0</th>\n",
              "      <td>1</td>\n",
              "      <td>14.23</td>\n",
              "      <td>1.71</td>\n",
              "      <td>2.43</td>\n",
              "      <td>15.6</td>\n",
              "      <td>127</td>\n",
              "      <td>2.80</td>\n",
              "      <td>3.06</td>\n",
              "      <td>0.28</td>\n",
              "      <td>2.29</td>\n",
              "      <td>5.64</td>\n",
              "      <td>1.04</td>\n",
              "      <td>3.92</td>\n",
              "      <td>1065</td>\n",
              "      <td>1</td>\n",
              "    </tr>\n",
              "    <tr>\n",
              "      <th>1</th>\n",
              "      <td>1</td>\n",
              "      <td>13.20</td>\n",
              "      <td>1.78</td>\n",
              "      <td>2.14</td>\n",
              "      <td>11.2</td>\n",
              "      <td>100</td>\n",
              "      <td>2.65</td>\n",
              "      <td>2.76</td>\n",
              "      <td>0.26</td>\n",
              "      <td>1.28</td>\n",
              "      <td>4.38</td>\n",
              "      <td>1.05</td>\n",
              "      <td>3.40</td>\n",
              "      <td>1050</td>\n",
              "      <td>1</td>\n",
              "    </tr>\n",
              "    <tr>\n",
              "      <th>2</th>\n",
              "      <td>1</td>\n",
              "      <td>13.16</td>\n",
              "      <td>2.36</td>\n",
              "      <td>2.67</td>\n",
              "      <td>18.6</td>\n",
              "      <td>101</td>\n",
              "      <td>2.80</td>\n",
              "      <td>3.24</td>\n",
              "      <td>0.30</td>\n",
              "      <td>2.81</td>\n",
              "      <td>5.68</td>\n",
              "      <td>1.03</td>\n",
              "      <td>3.17</td>\n",
              "      <td>1185</td>\n",
              "      <td>1</td>\n",
              "    </tr>\n",
              "    <tr>\n",
              "      <th>3</th>\n",
              "      <td>1</td>\n",
              "      <td>14.37</td>\n",
              "      <td>1.95</td>\n",
              "      <td>2.50</td>\n",
              "      <td>16.8</td>\n",
              "      <td>113</td>\n",
              "      <td>3.85</td>\n",
              "      <td>3.49</td>\n",
              "      <td>0.24</td>\n",
              "      <td>2.18</td>\n",
              "      <td>7.80</td>\n",
              "      <td>0.86</td>\n",
              "      <td>3.45</td>\n",
              "      <td>1480</td>\n",
              "      <td>1</td>\n",
              "    </tr>\n",
              "    <tr>\n",
              "      <th>4</th>\n",
              "      <td>1</td>\n",
              "      <td>13.24</td>\n",
              "      <td>2.59</td>\n",
              "      <td>2.87</td>\n",
              "      <td>21.0</td>\n",
              "      <td>118</td>\n",
              "      <td>2.80</td>\n",
              "      <td>2.69</td>\n",
              "      <td>0.39</td>\n",
              "      <td>1.82</td>\n",
              "      <td>4.32</td>\n",
              "      <td>1.04</td>\n",
              "      <td>2.93</td>\n",
              "      <td>735</td>\n",
              "      <td>4</td>\n",
              "    </tr>\n",
              "    <tr>\n",
              "      <th>...</th>\n",
              "      <td>...</td>\n",
              "      <td>...</td>\n",
              "      <td>...</td>\n",
              "      <td>...</td>\n",
              "      <td>...</td>\n",
              "      <td>...</td>\n",
              "      <td>...</td>\n",
              "      <td>...</td>\n",
              "      <td>...</td>\n",
              "      <td>...</td>\n",
              "      <td>...</td>\n",
              "      <td>...</td>\n",
              "      <td>...</td>\n",
              "      <td>...</td>\n",
              "      <td>...</td>\n",
              "    </tr>\n",
              "    <tr>\n",
              "      <th>173</th>\n",
              "      <td>3</td>\n",
              "      <td>13.71</td>\n",
              "      <td>5.65</td>\n",
              "      <td>2.45</td>\n",
              "      <td>20.5</td>\n",
              "      <td>95</td>\n",
              "      <td>1.68</td>\n",
              "      <td>0.61</td>\n",
              "      <td>0.52</td>\n",
              "      <td>1.06</td>\n",
              "      <td>7.70</td>\n",
              "      <td>0.64</td>\n",
              "      <td>1.74</td>\n",
              "      <td>740</td>\n",
              "      <td>0</td>\n",
              "    </tr>\n",
              "    <tr>\n",
              "      <th>174</th>\n",
              "      <td>3</td>\n",
              "      <td>13.40</td>\n",
              "      <td>3.91</td>\n",
              "      <td>2.48</td>\n",
              "      <td>23.0</td>\n",
              "      <td>102</td>\n",
              "      <td>1.80</td>\n",
              "      <td>0.75</td>\n",
              "      <td>0.43</td>\n",
              "      <td>1.41</td>\n",
              "      <td>7.30</td>\n",
              "      <td>0.70</td>\n",
              "      <td>1.56</td>\n",
              "      <td>750</td>\n",
              "      <td>0</td>\n",
              "    </tr>\n",
              "    <tr>\n",
              "      <th>175</th>\n",
              "      <td>3</td>\n",
              "      <td>13.27</td>\n",
              "      <td>4.28</td>\n",
              "      <td>2.26</td>\n",
              "      <td>20.0</td>\n",
              "      <td>120</td>\n",
              "      <td>1.59</td>\n",
              "      <td>0.69</td>\n",
              "      <td>0.43</td>\n",
              "      <td>1.35</td>\n",
              "      <td>10.20</td>\n",
              "      <td>0.59</td>\n",
              "      <td>1.56</td>\n",
              "      <td>835</td>\n",
              "      <td>0</td>\n",
              "    </tr>\n",
              "    <tr>\n",
              "      <th>176</th>\n",
              "      <td>3</td>\n",
              "      <td>13.17</td>\n",
              "      <td>2.59</td>\n",
              "      <td>2.37</td>\n",
              "      <td>20.0</td>\n",
              "      <td>120</td>\n",
              "      <td>1.65</td>\n",
              "      <td>0.68</td>\n",
              "      <td>0.53</td>\n",
              "      <td>1.46</td>\n",
              "      <td>9.30</td>\n",
              "      <td>0.60</td>\n",
              "      <td>1.62</td>\n",
              "      <td>840</td>\n",
              "      <td>0</td>\n",
              "    </tr>\n",
              "    <tr>\n",
              "      <th>177</th>\n",
              "      <td>3</td>\n",
              "      <td>14.13</td>\n",
              "      <td>4.10</td>\n",
              "      <td>2.74</td>\n",
              "      <td>24.5</td>\n",
              "      <td>96</td>\n",
              "      <td>2.05</td>\n",
              "      <td>0.76</td>\n",
              "      <td>0.56</td>\n",
              "      <td>1.35</td>\n",
              "      <td>9.20</td>\n",
              "      <td>0.61</td>\n",
              "      <td>1.60</td>\n",
              "      <td>560</td>\n",
              "      <td>0</td>\n",
              "    </tr>\n",
              "  </tbody>\n",
              "</table>\n",
              "<p>178 rows × 15 columns</p>\n",
              "</div>"
            ],
            "text/plain": [
              "     Type  Alcohol  Malic   Ash  ...   Hue  Dilution  Proline  clust\n",
              "0       1    14.23   1.71  2.43  ...  1.04      3.92     1065      1\n",
              "1       1    13.20   1.78  2.14  ...  1.05      3.40     1050      1\n",
              "2       1    13.16   2.36  2.67  ...  1.03      3.17     1185      1\n",
              "3       1    14.37   1.95  2.50  ...  0.86      3.45     1480      1\n",
              "4       1    13.24   2.59  2.87  ...  1.04      2.93      735      4\n",
              "..    ...      ...    ...   ...  ...   ...       ...      ...    ...\n",
              "173     3    13.71   5.65  2.45  ...  0.64      1.74      740      0\n",
              "174     3    13.40   3.91  2.48  ...  0.70      1.56      750      0\n",
              "175     3    13.27   4.28  2.26  ...  0.59      1.56      835      0\n",
              "176     3    13.17   2.59  2.37  ...  0.60      1.62      840      0\n",
              "177     3    14.13   4.10  2.74  ...  0.61      1.60      560      0\n",
              "\n",
              "[178 rows x 15 columns]"
            ]
          },
          "metadata": {},
          "execution_count": 158
        }
      ]
    },
    {
      "cell_type": "code",
      "metadata": {
        "colab": {
          "base_uri": "https://localhost:8080/"
        },
        "id": "NWpGRt-AMeiB",
        "outputId": "379ef193-d49e-43b0-d708-9852e148df89"
      },
      "source": [
        "# number of data points in each cluster\n",
        "wine_h['clust'].value_counts()"
      ],
      "execution_count": 159,
      "outputs": [
        {
          "output_type": "execute_result",
          "data": {
            "text/plain": [
              "1    57\n",
              "0    51\n",
              "2    48\n",
              "3    12\n",
              "4    10\n",
              "Name: clust, dtype: int64"
            ]
          },
          "metadata": {},
          "execution_count": 159
        }
      ]
    },
    {
      "cell_type": "markdown",
      "metadata": {
        "id": "p7crgaPnG5Cl"
      },
      "source": [
        "# **Hierachical Clustering after PCA**"
      ]
    },
    {
      "cell_type": "code",
      "metadata": {
        "id": "6aXh0SV-jK7x"
      },
      "source": [
        "wine_h_pca = pd.read_csv('wine.csv')"
      ],
      "execution_count": 178,
      "outputs": []
    },
    {
      "cell_type": "code",
      "metadata": {
        "id": "_pWKb4ElK-tJ"
      },
      "source": [
        "# final_df is the data set obtained after applying PCA"
      ],
      "execution_count": null,
      "outputs": []
    },
    {
      "cell_type": "code",
      "metadata": {
        "colab": {
          "base_uri": "https://localhost:8080/",
          "height": 605
        },
        "id": "hSy6CaUfBSgP",
        "outputId": "b49dbfb8-9f69-4417-eb3c-c4709969ee30"
      },
      "source": [
        "# Creating Dendrogram\n",
        "Z1= linkage( final_df.iloc[:,1:], method= 'complete', metric='euclidean')\n",
        "plt.figure(figsize=(15,10))\n",
        "plt.xlabel('index')\n",
        "plt.ylabel('Distance')\n",
        "sch.dendrogram(Z1)\n",
        "plt.show()"
      ],
      "execution_count": 161,
      "outputs": [
        {
          "output_type": "display_data",
          "data": {
            "image/png": "[encoded data removed]",
            "text/plain": [
              "<Figure size 1080x720 with 1 Axes>"
            ]
          },
          "metadata": {
            "needs_background": "light"
          }
        }
      ]
    },
    {
      "cell_type": "code",
      "metadata": {
        "colab": {
          "base_uri": "https://localhost:8080/"
        },
        "id": "rd8dyQa7BSla",
        "outputId": "2c82b00d-d8a7-42cc-8b06-0a79e37357c3"
      },
      "source": [
        "# Applying algorithm and generating clusters\n",
        "h_complete_pca = AgglomerativeClustering(n_clusters=4, affinity='euclidean', linkage='complete').fit(final_df)\n",
        "h_complete_pca.labels_"
      ],
      "execution_count": 162,
      "outputs": [
        {
          "output_type": "execute_result",
          "data": {
            "text/plain": [
              "array([3, 3, 3, 3, 0, 3, 3, 3, 3, 3, 3, 3, 3, 3, 3, 3, 3, 3, 3, 3, 3, 3,\n",
              "       3, 3, 3, 0, 3, 3, 3, 3, 3, 3, 3, 3, 3, 3, 3, 3, 3, 3, 3, 3, 3, 3,\n",
              "       3, 3, 3, 3, 3, 3, 3, 3, 3, 3, 3, 3, 3, 3, 3, 2, 1, 1, 2, 0, 0, 0,\n",
              "       2, 2, 1, 2, 1, 0, 0, 0, 0, 2, 2, 0, 2, 0, 2, 0, 0, 1, 0, 0, 0, 0,\n",
              "       0, 0, 0, 0, 0, 0, 0, 3, 0, 2, 0, 0, 2, 2, 0, 2, 2, 0, 2, 0, 2, 0,\n",
              "       0, 2, 0, 0, 0, 0, 2, 0, 1, 2, 0, 0, 0, 0, 0, 0, 0, 0, 0, 0, 1, 1,\n",
              "       1, 1, 1, 1, 1, 1, 1, 1, 1, 1, 1, 1, 1, 1, 1, 1, 1, 1, 1, 1, 1, 1,\n",
              "       1, 1, 1, 1, 1, 1, 1, 1, 1, 1, 1, 1, 1, 1, 1, 1, 1, 1, 1, 1, 1, 1,\n",
              "       1, 1])"
            ]
          },
          "metadata": {},
          "execution_count": 162
        }
      ]
    },
    {
      "cell_type": "code",
      "metadata": {
        "colab": {
          "base_uri": "https://localhost:8080/",
          "height": 419
        },
        "id": "4foX0OD9BSox",
        "outputId": "9b572c00-aab8-4563-b1d2-d5663872caaf"
      },
      "source": [
        "## Appending cluster labels to data set\n",
        "wine_h_pca['clust_pca']=h_complete_pca.labels_\n",
        "wine_h_pca"
      ],
      "execution_count": 163,
      "outputs": [
        {
          "output_type": "execute_result",
          "data": {
            "text/html": [
              "<div>\n",
              "<style scoped>\n",
              "    .dataframe tbody tr th:only-of-type {\n",
              "        vertical-align: middle;\n",
              "    }\n",
              "\n",
              "    .dataframe tbody tr th {\n",
              "        vertical-align: top;\n",
              "    }\n",
              "\n",
              "    .dataframe thead th {\n",
              "        text-align: right;\n",
              "    }\n",
              "</style>\n",
              "<table border=\"1\" class=\"dataframe\">\n",
              "  <thead>\n",
              "    <tr style=\"text-align: right;\">\n",
              "      <th></th>\n",
              "      <th>Type</th>\n",
              "      <th>Alcohol</th>\n",
              "      <th>Malic</th>\n",
              "      <th>Ash</th>\n",
              "      <th>Alcalinity</th>\n",
              "      <th>Magnesium</th>\n",
              "      <th>Phenols</th>\n",
              "      <th>Flavanoids</th>\n",
              "      <th>Nonflavanoids</th>\n",
              "      <th>Proanthocyanins</th>\n",
              "      <th>Color</th>\n",
              "      <th>Hue</th>\n",
              "      <th>Dilution</th>\n",
              "      <th>Proline</th>\n",
              "      <th>clust_pca</th>\n",
              "    </tr>\n",
              "  </thead>\n",
              "  <tbody>\n",
              "    <tr>\n",
              "      <th>0</th>\n",
              "      <td>1</td>\n",
              "      <td>14.23</td>\n",
              "      <td>1.71</td>\n",
              "      <td>2.43</td>\n",
              "      <td>15.6</td>\n",
              "      <td>127</td>\n",
              "      <td>2.80</td>\n",
              "      <td>3.06</td>\n",
              "      <td>0.28</td>\n",
              "      <td>2.29</td>\n",
              "      <td>5.64</td>\n",
              "      <td>1.04</td>\n",
              "      <td>3.92</td>\n",
              "      <td>1065</td>\n",
              "      <td>3</td>\n",
              "    </tr>\n",
              "    <tr>\n",
              "      <th>1</th>\n",
              "      <td>1</td>\n",
              "      <td>13.20</td>\n",
              "      <td>1.78</td>\n",
              "      <td>2.14</td>\n",
              "      <td>11.2</td>\n",
              "      <td>100</td>\n",
              "      <td>2.65</td>\n",
              "      <td>2.76</td>\n",
              "      <td>0.26</td>\n",
              "      <td>1.28</td>\n",
              "      <td>4.38</td>\n",
              "      <td>1.05</td>\n",
              "      <td>3.40</td>\n",
              "      <td>1050</td>\n",
              "      <td>3</td>\n",
              "    </tr>\n",
              "    <tr>\n",
              "      <th>2</th>\n",
              "      <td>1</td>\n",
              "      <td>13.16</td>\n",
              "      <td>2.36</td>\n",
              "      <td>2.67</td>\n",
              "      <td>18.6</td>\n",
              "      <td>101</td>\n",
              "      <td>2.80</td>\n",
              "      <td>3.24</td>\n",
              "      <td>0.30</td>\n",
              "      <td>2.81</td>\n",
              "      <td>5.68</td>\n",
              "      <td>1.03</td>\n",
              "      <td>3.17</td>\n",
              "      <td>1185</td>\n",
              "      <td>3</td>\n",
              "    </tr>\n",
              "    <tr>\n",
              "      <th>3</th>\n",
              "      <td>1</td>\n",
              "      <td>14.37</td>\n",
              "      <td>1.95</td>\n",
              "      <td>2.50</td>\n",
              "      <td>16.8</td>\n",
              "      <td>113</td>\n",
              "      <td>3.85</td>\n",
              "      <td>3.49</td>\n",
              "      <td>0.24</td>\n",
              "      <td>2.18</td>\n",
              "      <td>7.80</td>\n",
              "      <td>0.86</td>\n",
              "      <td>3.45</td>\n",
              "      <td>1480</td>\n",
              "      <td>3</td>\n",
              "    </tr>\n",
              "    <tr>\n",
              "      <th>4</th>\n",
              "      <td>1</td>\n",
              "      <td>13.24</td>\n",
              "      <td>2.59</td>\n",
              "      <td>2.87</td>\n",
              "      <td>21.0</td>\n",
              "      <td>118</td>\n",
              "      <td>2.80</td>\n",
              "      <td>2.69</td>\n",
              "      <td>0.39</td>\n",
              "      <td>1.82</td>\n",
              "      <td>4.32</td>\n",
              "      <td>1.04</td>\n",
              "      <td>2.93</td>\n",
              "      <td>735</td>\n",
              "      <td>0</td>\n",
              "    </tr>\n",
              "    <tr>\n",
              "      <th>...</th>\n",
              "      <td>...</td>\n",
              "      <td>...</td>\n",
              "      <td>...</td>\n",
              "      <td>...</td>\n",
              "      <td>...</td>\n",
              "      <td>...</td>\n",
              "      <td>...</td>\n",
              "      <td>...</td>\n",
              "      <td>...</td>\n",
              "      <td>...</td>\n",
              "      <td>...</td>\n",
              "      <td>...</td>\n",
              "      <td>...</td>\n",
              "      <td>...</td>\n",
              "      <td>...</td>\n",
              "    </tr>\n",
              "    <tr>\n",
              "      <th>173</th>\n",
              "      <td>3</td>\n",
              "      <td>13.71</td>\n",
              "      <td>5.65</td>\n",
              "      <td>2.45</td>\n",
              "      <td>20.5</td>\n",
              "      <td>95</td>\n",
              "      <td>1.68</td>\n",
              "      <td>0.61</td>\n",
              "      <td>0.52</td>\n",
              "      <td>1.06</td>\n",
              "      <td>7.70</td>\n",
              "      <td>0.64</td>\n",
              "      <td>1.74</td>\n",
              "      <td>740</td>\n",
              "      <td>1</td>\n",
              "    </tr>\n",
              "    <tr>\n",
              "      <th>174</th>\n",
              "      <td>3</td>\n",
              "      <td>13.40</td>\n",
              "      <td>3.91</td>\n",
              "      <td>2.48</td>\n",
              "      <td>23.0</td>\n",
              "      <td>102</td>\n",
              "      <td>1.80</td>\n",
              "      <td>0.75</td>\n",
              "      <td>0.43</td>\n",
              "      <td>1.41</td>\n",
              "      <td>7.30</td>\n",
              "      <td>0.70</td>\n",
              "      <td>1.56</td>\n",
              "      <td>750</td>\n",
              "      <td>1</td>\n",
              "    </tr>\n",
              "    <tr>\n",
              "      <th>175</th>\n",
              "      <td>3</td>\n",
              "      <td>13.27</td>\n",
              "      <td>4.28</td>\n",
              "      <td>2.26</td>\n",
              "      <td>20.0</td>\n",
              "      <td>120</td>\n",
              "      <td>1.59</td>\n",
              "      <td>0.69</td>\n",
              "      <td>0.43</td>\n",
              "      <td>1.35</td>\n",
              "      <td>10.20</td>\n",
              "      <td>0.59</td>\n",
              "      <td>1.56</td>\n",
              "      <td>835</td>\n",
              "      <td>1</td>\n",
              "    </tr>\n",
              "    <tr>\n",
              "      <th>176</th>\n",
              "      <td>3</td>\n",
              "      <td>13.17</td>\n",
              "      <td>2.59</td>\n",
              "      <td>2.37</td>\n",
              "      <td>20.0</td>\n",
              "      <td>120</td>\n",
              "      <td>1.65</td>\n",
              "      <td>0.68</td>\n",
              "      <td>0.53</td>\n",
              "      <td>1.46</td>\n",
              "      <td>9.30</td>\n",
              "      <td>0.60</td>\n",
              "      <td>1.62</td>\n",
              "      <td>840</td>\n",
              "      <td>1</td>\n",
              "    </tr>\n",
              "    <tr>\n",
              "      <th>177</th>\n",
              "      <td>3</td>\n",
              "      <td>14.13</td>\n",
              "      <td>4.10</td>\n",
              "      <td>2.74</td>\n",
              "      <td>24.5</td>\n",
              "      <td>96</td>\n",
              "      <td>2.05</td>\n",
              "      <td>0.76</td>\n",
              "      <td>0.56</td>\n",
              "      <td>1.35</td>\n",
              "      <td>9.20</td>\n",
              "      <td>0.61</td>\n",
              "      <td>1.60</td>\n",
              "      <td>560</td>\n",
              "      <td>1</td>\n",
              "    </tr>\n",
              "  </tbody>\n",
              "</table>\n",
              "<p>178 rows × 15 columns</p>\n",
              "</div>"
            ],
            "text/plain": [
              "     Type  Alcohol  Malic   Ash  ...   Hue  Dilution  Proline  clust_pca\n",
              "0       1    14.23   1.71  2.43  ...  1.04      3.92     1065          3\n",
              "1       1    13.20   1.78  2.14  ...  1.05      3.40     1050          3\n",
              "2       1    13.16   2.36  2.67  ...  1.03      3.17     1185          3\n",
              "3       1    14.37   1.95  2.50  ...  0.86      3.45     1480          3\n",
              "4       1    13.24   2.59  2.87  ...  1.04      2.93      735          0\n",
              "..    ...      ...    ...   ...  ...   ...       ...      ...        ...\n",
              "173     3    13.71   5.65  2.45  ...  0.64      1.74      740          1\n",
              "174     3    13.40   3.91  2.48  ...  0.70      1.56      750          1\n",
              "175     3    13.27   4.28  2.26  ...  0.59      1.56      835          1\n",
              "176     3    13.17   2.59  2.37  ...  0.60      1.62      840          1\n",
              "177     3    14.13   4.10  2.74  ...  0.61      1.60      560          1\n",
              "\n",
              "[178 rows x 15 columns]"
            ]
          },
          "metadata": {},
          "execution_count": 163
        }
      ]
    },
    {
      "cell_type": "code",
      "metadata": {
        "colab": {
          "base_uri": "https://localhost:8080/"
        },
        "id": "PiW_is5xBSrY",
        "outputId": "580e2d62-a194-4f43-b561-0173f2402649"
      },
      "source": [
        "# number of data points in each cluster\n",
        "wine_h_pca['clust_pca'].value_counts()"
      ],
      "execution_count": 165,
      "outputs": [
        {
          "output_type": "execute_result",
          "data": {
            "text/plain": [
              "3    58\n",
              "1    54\n",
              "0    47\n",
              "2    19\n",
              "Name: clust_pca, dtype: int64"
            ]
          },
          "metadata": {},
          "execution_count": 165
        }
      ]
    },
    {
      "cell_type": "markdown",
      "metadata": {
        "id": "u-FYBNI1JMjl"
      },
      "source": [
        "# **K-Means Clustering**\n",
        "**With original data set**"
      ]
    },
    {
      "cell_type": "code",
      "metadata": {
        "id": "YlBX4hMfBSi6"
      },
      "source": [
        "from sklearn.cluster import KMeans"
      ],
      "execution_count": 173,
      "outputs": []
    },
    {
      "cell_type": "code",
      "metadata": {
        "colab": {
          "base_uri": "https://localhost:8080/",
          "height": 419
        },
        "id": "LECADdb2BSuY",
        "outputId": "f0747585-b70e-42ab-8a14-aa928ece1bdf"
      },
      "source": [
        "wine_kmeans = pd.read_csv('wine.csv')\n",
        "wine_kmeans"
      ],
      "execution_count": 166,
      "outputs": [
        {
          "output_type": "execute_result",
          "data": {
            "text/html": [
              "<div>\n",
              "<style scoped>\n",
              "    .dataframe tbody tr th:only-of-type {\n",
              "        vertical-align: middle;\n",
              "    }\n",
              "\n",
              "    .dataframe tbody tr th {\n",
              "        vertical-align: top;\n",
              "    }\n",
              "\n",
              "    .dataframe thead th {\n",
              "        text-align: right;\n",
              "    }\n",
              "</style>\n",
              "<table border=\"1\" class=\"dataframe\">\n",
              "  <thead>\n",
              "    <tr style=\"text-align: right;\">\n",
              "      <th></th>\n",
              "      <th>Type</th>\n",
              "      <th>Alcohol</th>\n",
              "      <th>Malic</th>\n",
              "      <th>Ash</th>\n",
              "      <th>Alcalinity</th>\n",
              "      <th>Magnesium</th>\n",
              "      <th>Phenols</th>\n",
              "      <th>Flavanoids</th>\n",
              "      <th>Nonflavanoids</th>\n",
              "      <th>Proanthocyanins</th>\n",
              "      <th>Color</th>\n",
              "      <th>Hue</th>\n",
              "      <th>Dilution</th>\n",
              "      <th>Proline</th>\n",
              "    </tr>\n",
              "  </thead>\n",
              "  <tbody>\n",
              "    <tr>\n",
              "      <th>0</th>\n",
              "      <td>1</td>\n",
              "      <td>14.23</td>\n",
              "      <td>1.71</td>\n",
              "      <td>2.43</td>\n",
              "      <td>15.6</td>\n",
              "      <td>127</td>\n",
              "      <td>2.80</td>\n",
              "      <td>3.06</td>\n",
              "      <td>0.28</td>\n",
              "      <td>2.29</td>\n",
              "      <td>5.64</td>\n",
              "      <td>1.04</td>\n",
              "      <td>3.92</td>\n",
              "      <td>1065</td>\n",
              "    </tr>\n",
              "    <tr>\n",
              "      <th>1</th>\n",
              "      <td>1</td>\n",
              "      <td>13.20</td>\n",
              "      <td>1.78</td>\n",
              "      <td>2.14</td>\n",
              "      <td>11.2</td>\n",
              "      <td>100</td>\n",
              "      <td>2.65</td>\n",
              "      <td>2.76</td>\n",
              "      <td>0.26</td>\n",
              "      <td>1.28</td>\n",
              "      <td>4.38</td>\n",
              "      <td>1.05</td>\n",
              "      <td>3.40</td>\n",
              "      <td>1050</td>\n",
              "    </tr>\n",
              "    <tr>\n",
              "      <th>2</th>\n",
              "      <td>1</td>\n",
              "      <td>13.16</td>\n",
              "      <td>2.36</td>\n",
              "      <td>2.67</td>\n",
              "      <td>18.6</td>\n",
              "      <td>101</td>\n",
              "      <td>2.80</td>\n",
              "      <td>3.24</td>\n",
              "      <td>0.30</td>\n",
              "      <td>2.81</td>\n",
              "      <td>5.68</td>\n",
              "      <td>1.03</td>\n",
              "      <td>3.17</td>\n",
              "      <td>1185</td>\n",
              "    </tr>\n",
              "    <tr>\n",
              "      <th>3</th>\n",
              "      <td>1</td>\n",
              "      <td>14.37</td>\n",
              "      <td>1.95</td>\n",
              "      <td>2.50</td>\n",
              "      <td>16.8</td>\n",
              "      <td>113</td>\n",
              "      <td>3.85</td>\n",
              "      <td>3.49</td>\n",
              "      <td>0.24</td>\n",
              "      <td>2.18</td>\n",
              "      <td>7.80</td>\n",
              "      <td>0.86</td>\n",
              "      <td>3.45</td>\n",
              "      <td>1480</td>\n",
              "    </tr>\n",
              "    <tr>\n",
              "      <th>4</th>\n",
              "      <td>1</td>\n",
              "      <td>13.24</td>\n",
              "      <td>2.59</td>\n",
              "      <td>2.87</td>\n",
              "      <td>21.0</td>\n",
              "      <td>118</td>\n",
              "      <td>2.80</td>\n",
              "      <td>2.69</td>\n",
              "      <td>0.39</td>\n",
              "      <td>1.82</td>\n",
              "      <td>4.32</td>\n",
              "      <td>1.04</td>\n",
              "      <td>2.93</td>\n",
              "      <td>735</td>\n",
              "    </tr>\n",
              "    <tr>\n",
              "      <th>...</th>\n",
              "      <td>...</td>\n",
              "      <td>...</td>\n",
              "      <td>...</td>\n",
              "      <td>...</td>\n",
              "      <td>...</td>\n",
              "      <td>...</td>\n",
              "      <td>...</td>\n",
              "      <td>...</td>\n",
              "      <td>...</td>\n",
              "      <td>...</td>\n",
              "      <td>...</td>\n",
              "      <td>...</td>\n",
              "      <td>...</td>\n",
              "      <td>...</td>\n",
              "    </tr>\n",
              "    <tr>\n",
              "      <th>173</th>\n",
              "      <td>3</td>\n",
              "      <td>13.71</td>\n",
              "      <td>5.65</td>\n",
              "      <td>2.45</td>\n",
              "      <td>20.5</td>\n",
              "      <td>95</td>\n",
              "      <td>1.68</td>\n",
              "      <td>0.61</td>\n",
              "      <td>0.52</td>\n",
              "      <td>1.06</td>\n",
              "      <td>7.70</td>\n",
              "      <td>0.64</td>\n",
              "      <td>1.74</td>\n",
              "      <td>740</td>\n",
              "    </tr>\n",
              "    <tr>\n",
              "      <th>174</th>\n",
              "      <td>3</td>\n",
              "      <td>13.40</td>\n",
              "      <td>3.91</td>\n",
              "      <td>2.48</td>\n",
              "      <td>23.0</td>\n",
              "      <td>102</td>\n",
              "      <td>1.80</td>\n",
              "      <td>0.75</td>\n",
              "      <td>0.43</td>\n",
              "      <td>1.41</td>\n",
              "      <td>7.30</td>\n",
              "      <td>0.70</td>\n",
              "      <td>1.56</td>\n",
              "      <td>750</td>\n",
              "    </tr>\n",
              "    <tr>\n",
              "      <th>175</th>\n",
              "      <td>3</td>\n",
              "      <td>13.27</td>\n",
              "      <td>4.28</td>\n",
              "      <td>2.26</td>\n",
              "      <td>20.0</td>\n",
              "      <td>120</td>\n",
              "      <td>1.59</td>\n",
              "      <td>0.69</td>\n",
              "      <td>0.43</td>\n",
              "      <td>1.35</td>\n",
              "      <td>10.20</td>\n",
              "      <td>0.59</td>\n",
              "      <td>1.56</td>\n",
              "      <td>835</td>\n",
              "    </tr>\n",
              "    <tr>\n",
              "      <th>176</th>\n",
              "      <td>3</td>\n",
              "      <td>13.17</td>\n",
              "      <td>2.59</td>\n",
              "      <td>2.37</td>\n",
              "      <td>20.0</td>\n",
              "      <td>120</td>\n",
              "      <td>1.65</td>\n",
              "      <td>0.68</td>\n",
              "      <td>0.53</td>\n",
              "      <td>1.46</td>\n",
              "      <td>9.30</td>\n",
              "      <td>0.60</td>\n",
              "      <td>1.62</td>\n",
              "      <td>840</td>\n",
              "    </tr>\n",
              "    <tr>\n",
              "      <th>177</th>\n",
              "      <td>3</td>\n",
              "      <td>14.13</td>\n",
              "      <td>4.10</td>\n",
              "      <td>2.74</td>\n",
              "      <td>24.5</td>\n",
              "      <td>96</td>\n",
              "      <td>2.05</td>\n",
              "      <td>0.76</td>\n",
              "      <td>0.56</td>\n",
              "      <td>1.35</td>\n",
              "      <td>9.20</td>\n",
              "      <td>0.61</td>\n",
              "      <td>1.60</td>\n",
              "      <td>560</td>\n",
              "    </tr>\n",
              "  </tbody>\n",
              "</table>\n",
              "<p>178 rows × 14 columns</p>\n",
              "</div>"
            ],
            "text/plain": [
              "     Type  Alcohol  Malic   Ash  ...  Color   Hue  Dilution  Proline\n",
              "0       1    14.23   1.71  2.43  ...   5.64  1.04      3.92     1065\n",
              "1       1    13.20   1.78  2.14  ...   4.38  1.05      3.40     1050\n",
              "2       1    13.16   2.36  2.67  ...   5.68  1.03      3.17     1185\n",
              "3       1    14.37   1.95  2.50  ...   7.80  0.86      3.45     1480\n",
              "4       1    13.24   2.59  2.87  ...   4.32  1.04      2.93      735\n",
              "..    ...      ...    ...   ...  ...    ...   ...       ...      ...\n",
              "173     3    13.71   5.65  2.45  ...   7.70  0.64      1.74      740\n",
              "174     3    13.40   3.91  2.48  ...   7.30  0.70      1.56      750\n",
              "175     3    13.27   4.28  2.26  ...  10.20  0.59      1.56      835\n",
              "176     3    13.17   2.59  2.37  ...   9.30  0.60      1.62      840\n",
              "177     3    14.13   4.10  2.74  ...   9.20  0.61      1.60      560\n",
              "\n",
              "[178 rows x 14 columns]"
            ]
          },
          "metadata": {},
          "execution_count": 166
        }
      ]
    },
    {
      "cell_type": "code",
      "metadata": {
        "id": "LeNFxZoyY11a"
      },
      "source": [
        "# Scaling data\n",
        "wine_k_scale = scale(wine_kmeans.iloc[:,1:])"
      ],
      "execution_count": 171,
      "outputs": []
    },
    {
      "cell_type": "code",
      "metadata": {
        "colab": {
          "base_uri": "https://localhost:8080/"
        },
        "id": "hBczECB0Y1-b",
        "outputId": "12cbe268-9545-4bfa-f7c1-2a92516da73f"
      },
      "source": [
        "wine_k_scale"
      ],
      "execution_count": 172,
      "outputs": [
        {
          "output_type": "execute_result",
          "data": {
            "text/plain": [
              "array([[ 1.51861254, -0.5622498 ,  0.23205254, ...,  0.36217728,\n",
              "         1.84791957,  1.01300893],\n",
              "       [ 0.24628963, -0.49941338, -0.82799632, ...,  0.40605066,\n",
              "         1.1134493 ,  0.96524152],\n",
              "       [ 0.19687903,  0.02123125,  1.10933436, ...,  0.31830389,\n",
              "         0.78858745,  1.39514818],\n",
              "       ...,\n",
              "       [ 0.33275817,  1.74474449, -0.38935541, ..., -1.61212515,\n",
              "        -1.48544548,  0.28057537],\n",
              "       [ 0.20923168,  0.22769377,  0.01273209, ..., -1.56825176,\n",
              "        -1.40069891,  0.29649784],\n",
              "       [ 1.39508604,  1.58316512,  1.36520822, ..., -1.52437837,\n",
              "        -1.42894777, -0.59516041]])"
            ]
          },
          "metadata": {},
          "execution_count": 172
        }
      ]
    },
    {
      "cell_type": "code",
      "metadata": {
        "colab": {
          "base_uri": "https://localhost:8080/",
          "height": 312
        },
        "id": "vpAs1jV0Y2DG",
        "outputId": "38be056c-3d1e-41e0-e0b2-ca53274c5d07"
      },
      "source": [
        "# creating Elbow graph\n",
        "wcss=[]\n",
        "for i in range (1,6):\n",
        "  kmeans = KMeans(n_clusters=i,random_state=0)\n",
        "  kmeans.fit(wine_k_scale)\n",
        "  wcss.append(kmeans.inertia_)\n",
        "plt.plot(range(1,6),wcss)\n",
        "plt.title('Elbo curve')\n",
        "plt.xlabel('number of clusters')\n",
        "plt.ylabel('WCSS')\n",
        "plt.show"
      ],
      "execution_count": 176,
      "outputs": [
        {
          "output_type": "execute_result",
          "data": {
            "text/plain": [
              "<function matplotlib.pyplot.show>"
            ]
          },
          "metadata": {},
          "execution_count": 176
        },
        {
          "output_type": "display_data",
          "data": {
            "image/png": "[encoded data removed]",
            "text/plain": [
              "<Figure size 432x288 with 1 Axes>"
            ]
          },
          "metadata": {
            "needs_background": "light"
          }
        }
      ]
    },
    {
      "cell_type": "markdown",
      "metadata": {
        "id": "YrCJMQxobGfj"
      },
      "source": [
        "**Optimum number of clusters can be considered as k=3**"
      ]
    },
    {
      "cell_type": "code",
      "metadata": {
        "id": "7ZIEod70c_Z0"
      },
      "source": [
        ""
      ],
      "execution_count": null,
      "outputs": []
    },
    {
      "cell_type": "markdown",
      "metadata": {
        "id": "4n5MuxnAcHky"
      },
      "source": [
        "# **KMeans clustering after PCA**"
      ]
    },
    {
      "cell_type": "code",
      "metadata": {
        "colab": {
          "base_uri": "https://localhost:8080/",
          "height": 312
        },
        "id": "WJY294QUY2J5",
        "outputId": "166ca454-3546-4f30-91b7-962dafaf6d3f"
      },
      "source": [
        "# Creating Elbow graph using PCA data set 'final_df'\n",
        "wcss=[]\n",
        "for i in range (1,6):\n",
        "  kmeans = KMeans(n_clusters=i,random_state=0)\n",
        "  kmeans.fit(final_df.iloc[:,1:])\n",
        "  wcss.append(kmeans.inertia_)\n",
        "plt.plot(range(1,6),wcss)\n",
        "plt.title('Elbo curve')\n",
        "plt.xlabel('number of clusters')\n",
        "plt.ylabel('WCSS')\n",
        "plt.show"
      ],
      "execution_count": 177,
      "outputs": [
        {
          "output_type": "execute_result",
          "data": {
            "text/plain": [
              "<function matplotlib.pyplot.show>"
            ]
          },
          "metadata": {},
          "execution_count": 177
        },
        {
          "output_type": "display_data",
          "data": {
            "image/png": "[encoded data removed]",
            "text/plain": [
              "<Figure size 432x288 with 1 Axes>"
            ]
          },
          "metadata": {
            "needs_background": "light"
          }
        }
      ]
    },
    {
      "cell_type": "markdown",
      "metadata": {
        "id": "lD7Isan5cPwa"
      },
      "source": [
        "**Optimum number of clusters can be considered as k=3**"
      ]
    },
    {
      "cell_type": "code",
      "metadata": {
        "id": "zzPGXicmY2i2"
      },
      "source": [
        ""
      ],
      "execution_count": null,
      "outputs": []
    }
  ]
}